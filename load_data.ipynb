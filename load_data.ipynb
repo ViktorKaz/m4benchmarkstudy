{
 "cells": [
  {
   "cell_type": "code",
   "execution_count": 93,
   "metadata": {},
   "outputs": [],
   "source": [
    "import pandas as pd\n",
    "import matplotlib\n",
    "from datetime import datetime, timedelta\n",
    "from dateutil.relativedelta import relativedelta"
   ]
  },
  {
   "cell_type": "code",
   "execution_count": 94,
   "metadata": {},
   "outputs": [],
   "source": [
    "dts = pd.read_csv('/home/viktor/MPhil/m4benchmarkstudy/Dataset/Train/Yearly-train.csv')\n",
    "info = pd.read_csv('/home/viktor/MPhil/m4benchmarkstudy/Dataset/M4-info.csv')"
   ]
  },
  {
   "cell_type": "code",
   "execution_count": 42,
   "metadata": {},
   "outputs": [
    {
     "data": {
      "text/html": [
       "<div>\n",
       "<style scoped>\n",
       "    .dataframe tbody tr th:only-of-type {\n",
       "        vertical-align: middle;\n",
       "    }\n",
       "\n",
       "    .dataframe tbody tr th {\n",
       "        vertical-align: top;\n",
       "    }\n",
       "\n",
       "    .dataframe thead th {\n",
       "        text-align: right;\n",
       "    }\n",
       "</style>\n",
       "<table border=\"1\" class=\"dataframe\">\n",
       "  <thead>\n",
       "    <tr style=\"text-align: right;\">\n",
       "      <th></th>\n",
       "      <th>V1</th>\n",
       "      <th>V2</th>\n",
       "      <th>V3</th>\n",
       "      <th>V4</th>\n",
       "      <th>V5</th>\n",
       "      <th>V6</th>\n",
       "      <th>V7</th>\n",
       "      <th>V8</th>\n",
       "      <th>V9</th>\n",
       "      <th>V10</th>\n",
       "      <th>...</th>\n",
       "      <th>V827</th>\n",
       "      <th>V828</th>\n",
       "      <th>V829</th>\n",
       "      <th>V830</th>\n",
       "      <th>V831</th>\n",
       "      <th>V832</th>\n",
       "      <th>V833</th>\n",
       "      <th>V834</th>\n",
       "      <th>V835</th>\n",
       "      <th>V836</th>\n",
       "    </tr>\n",
       "  </thead>\n",
       "  <tbody>\n",
       "    <tr>\n",
       "      <th>22995</th>\n",
       "      <td>Y22996</td>\n",
       "      <td>470.0</td>\n",
       "      <td>500.0</td>\n",
       "      <td>572.0</td>\n",
       "      <td>572.0</td>\n",
       "      <td>609.0</td>\n",
       "      <td>664.0</td>\n",
       "      <td>795.0</td>\n",
       "      <td>841.0</td>\n",
       "      <td>927.0</td>\n",
       "      <td>...</td>\n",
       "      <td>NaN</td>\n",
       "      <td>NaN</td>\n",
       "      <td>NaN</td>\n",
       "      <td>NaN</td>\n",
       "      <td>NaN</td>\n",
       "      <td>NaN</td>\n",
       "      <td>NaN</td>\n",
       "      <td>NaN</td>\n",
       "      <td>NaN</td>\n",
       "      <td>NaN</td>\n",
       "    </tr>\n",
       "    <tr>\n",
       "      <th>22996</th>\n",
       "      <td>Y22997</td>\n",
       "      <td>4660.0</td>\n",
       "      <td>4220.0</td>\n",
       "      <td>4790.0</td>\n",
       "      <td>8800.0</td>\n",
       "      <td>10600.0</td>\n",
       "      <td>25720.0</td>\n",
       "      <td>29860.0</td>\n",
       "      <td>23960.0</td>\n",
       "      <td>15220.0</td>\n",
       "      <td>...</td>\n",
       "      <td>NaN</td>\n",
       "      <td>NaN</td>\n",
       "      <td>NaN</td>\n",
       "      <td>NaN</td>\n",
       "      <td>NaN</td>\n",
       "      <td>NaN</td>\n",
       "      <td>NaN</td>\n",
       "      <td>NaN</td>\n",
       "      <td>NaN</td>\n",
       "      <td>NaN</td>\n",
       "    </tr>\n",
       "    <tr>\n",
       "      <th>22997</th>\n",
       "      <td>Y22998</td>\n",
       "      <td>688.8</td>\n",
       "      <td>462.5</td>\n",
       "      <td>472.4</td>\n",
       "      <td>495.1</td>\n",
       "      <td>450.1</td>\n",
       "      <td>385.9</td>\n",
       "      <td>467.0</td>\n",
       "      <td>633.8</td>\n",
       "      <td>699.0</td>\n",
       "      <td>...</td>\n",
       "      <td>NaN</td>\n",
       "      <td>NaN</td>\n",
       "      <td>NaN</td>\n",
       "      <td>NaN</td>\n",
       "      <td>NaN</td>\n",
       "      <td>NaN</td>\n",
       "      <td>NaN</td>\n",
       "      <td>NaN</td>\n",
       "      <td>NaN</td>\n",
       "      <td>NaN</td>\n",
       "    </tr>\n",
       "    <tr>\n",
       "      <th>22998</th>\n",
       "      <td>Y22999</td>\n",
       "      <td>147.0</td>\n",
       "      <td>379.0</td>\n",
       "      <td>369.0</td>\n",
       "      <td>149.0</td>\n",
       "      <td>118.0</td>\n",
       "      <td>194.0</td>\n",
       "      <td>261.0</td>\n",
       "      <td>411.0</td>\n",
       "      <td>644.0</td>\n",
       "      <td>...</td>\n",
       "      <td>NaN</td>\n",
       "      <td>NaN</td>\n",
       "      <td>NaN</td>\n",
       "      <td>NaN</td>\n",
       "      <td>NaN</td>\n",
       "      <td>NaN</td>\n",
       "      <td>NaN</td>\n",
       "      <td>NaN</td>\n",
       "      <td>NaN</td>\n",
       "      <td>NaN</td>\n",
       "    </tr>\n",
       "    <tr>\n",
       "      <th>22999</th>\n",
       "      <td>Y23000</td>\n",
       "      <td>6850.0</td>\n",
       "      <td>6860.0</td>\n",
       "      <td>7020.0</td>\n",
       "      <td>7150.0</td>\n",
       "      <td>7240.0</td>\n",
       "      <td>7390.0</td>\n",
       "      <td>7330.0</td>\n",
       "      <td>7520.0</td>\n",
       "      <td>7770.0</td>\n",
       "      <td>...</td>\n",
       "      <td>NaN</td>\n",
       "      <td>NaN</td>\n",
       "      <td>NaN</td>\n",
       "      <td>NaN</td>\n",
       "      <td>NaN</td>\n",
       "      <td>NaN</td>\n",
       "      <td>NaN</td>\n",
       "      <td>NaN</td>\n",
       "      <td>NaN</td>\n",
       "      <td>NaN</td>\n",
       "    </tr>\n",
       "  </tbody>\n",
       "</table>\n",
       "<p>5 rows × 836 columns</p>\n",
       "</div>"
      ],
      "text/plain": [
       "           V1      V2      V3      V4      V5       V6       V7       V8  \\\n",
       "22995  Y22996   470.0   500.0   572.0   572.0    609.0    664.0    795.0   \n",
       "22996  Y22997  4660.0  4220.0  4790.0  8800.0  10600.0  25720.0  29860.0   \n",
       "22997  Y22998   688.8   462.5   472.4   495.1    450.1    385.9    467.0   \n",
       "22998  Y22999   147.0   379.0   369.0   149.0    118.0    194.0    261.0   \n",
       "22999  Y23000  6850.0  6860.0  7020.0  7150.0   7240.0   7390.0   7330.0   \n",
       "\n",
       "            V9      V10  ...  V827  V828  V829  V830  V831  V832  V833  V834  \\\n",
       "22995    841.0    927.0  ...   NaN   NaN   NaN   NaN   NaN   NaN   NaN   NaN   \n",
       "22996  23960.0  15220.0  ...   NaN   NaN   NaN   NaN   NaN   NaN   NaN   NaN   \n",
       "22997    633.8    699.0  ...   NaN   NaN   NaN   NaN   NaN   NaN   NaN   NaN   \n",
       "22998    411.0    644.0  ...   NaN   NaN   NaN   NaN   NaN   NaN   NaN   NaN   \n",
       "22999   7520.0   7770.0  ...   NaN   NaN   NaN   NaN   NaN   NaN   NaN   NaN   \n",
       "\n",
       "       V835  V836  \n",
       "22995   NaN   NaN  \n",
       "22996   NaN   NaN  \n",
       "22997   NaN   NaN  \n",
       "22998   NaN   NaN  \n",
       "22999   NaN   NaN  \n",
       "\n",
       "[5 rows x 836 columns]"
      ]
     },
     "execution_count": 42,
     "metadata": {},
     "output_type": "execute_result"
    }
   ],
   "source": [
    "dts.tail()"
   ]
  },
  {
   "cell_type": "code",
   "execution_count": 95,
   "metadata": {},
   "outputs": [
    {
     "data": {
      "text/html": [
       "<div>\n",
       "<style scoped>\n",
       "    .dataframe tbody tr th:only-of-type {\n",
       "        vertical-align: middle;\n",
       "    }\n",
       "\n",
       "    .dataframe tbody tr th {\n",
       "        vertical-align: top;\n",
       "    }\n",
       "\n",
       "    .dataframe thead th {\n",
       "        text-align: right;\n",
       "    }\n",
       "</style>\n",
       "<table border=\"1\" class=\"dataframe\">\n",
       "  <thead>\n",
       "    <tr style=\"text-align: right;\">\n",
       "      <th></th>\n",
       "      <th>M4id</th>\n",
       "      <th>category</th>\n",
       "      <th>Frequency</th>\n",
       "      <th>Horizon</th>\n",
       "      <th>SP</th>\n",
       "      <th>StartingDate</th>\n",
       "    </tr>\n",
       "  </thead>\n",
       "  <tbody>\n",
       "    <tr>\n",
       "      <th>9939</th>\n",
       "      <td>Y9940</td>\n",
       "      <td>Micro</td>\n",
       "      <td>1</td>\n",
       "      <td>6</td>\n",
       "      <td>Yearly</td>\n",
       "      <td>31-12-97 12:00</td>\n",
       "    </tr>\n",
       "  </tbody>\n",
       "</table>\n",
       "</div>"
      ],
      "text/plain": [
       "       M4id category  Frequency  Horizon      SP    StartingDate\n",
       "9939  Y9940    Micro          1        6  Yearly  31-12-97 12:00"
      ]
     },
     "execution_count": 95,
     "metadata": {},
     "output_type": "execute_result"
    }
   ],
   "source": [
    "info[info['M4id'] == 'Y9940']"
   ]
  },
  {
   "cell_type": "code",
   "execution_count": 96,
   "metadata": {},
   "outputs": [
    {
     "data": {
      "text/plain": [
       "V1       Y9940\n",
       "V2      6180.0\n",
       "V3      6260.0\n",
       "V4      6310.0\n",
       "V5      6350.0\n",
       "         ...  \n",
       "V258    7960.0\n",
       "V259    8160.0\n",
       "V260    7550.0\n",
       "V261    6850.0\n",
       "V262    7170.0\n",
       "Name: 9939, Length: 262, dtype: object"
      ]
     },
     "execution_count": 96,
     "metadata": {},
     "output_type": "execute_result"
    }
   ],
   "source": [
    "dts[dts['V1']=='Y9940'].squeeze().dropna()"
   ]
  },
  {
   "cell_type": "code",
   "execution_count": 97,
   "metadata": {},
   "outputs": [
    {
     "data": {
      "text/plain": [
       "DatetimeIndex(['1997-12-31 12:00:00', '1998-12-31 12:00:00',\n",
       "               '1999-12-31 12:00:00', '2000-12-31 12:00:00',\n",
       "               '2001-12-31 12:00:00', '2002-12-31 12:00:00',\n",
       "               '2003-12-31 12:00:00', '2004-12-31 12:00:00',\n",
       "               '2005-12-31 12:00:00', '2006-12-31 12:00:00',\n",
       "               ...\n",
       "               '2249-12-31 12:00:00', '2250-12-31 12:00:00',\n",
       "               '2251-12-31 12:00:00', '2252-12-31 12:00:00',\n",
       "               '2253-12-31 12:00:00', '2254-12-31 12:00:00',\n",
       "               '2255-12-31 12:00:00', '2256-12-31 12:00:00',\n",
       "               '2257-12-31 12:00:00', '2258-12-31 12:00:00'],\n",
       "              dtype='datetime64[ns]', length=262, freq='A-DEC')"
      ]
     },
     "execution_count": 97,
     "metadata": {},
     "output_type": "execute_result"
    }
   ],
   "source": [
    "dt = datetime.strptime('31-12-97 12:00', '%d-%m-%y %H:%M')\n",
    "if dt > datetime.now():\n",
    "    dt -= relativedelta(years=100)\n",
    "pd.date_range(dt,periods=262,freq='Y')"
   ]
  }
 ],
 "metadata": {
  "kernelspec": {
   "display_name": "venv_m4study",
   "language": "python",
   "name": "python3"
  },
  "language_info": {
   "codemirror_mode": {
    "name": "ipython",
    "version": 3
   },
   "file_extension": ".py",
   "mimetype": "text/x-python",
   "name": "python",
   "nbconvert_exporter": "python",
   "pygments_lexer": "ipython3",
   "version": "3.10.6"
  },
  "orig_nbformat": 4,
  "vscode": {
   "interpreter": {
    "hash": "ed526b974d8c2ae670181904c891ba65b5c57624d092522589e2a55b419424a7"
   }
  }
 },
 "nbformat": 4,
 "nbformat_minor": 2
}
