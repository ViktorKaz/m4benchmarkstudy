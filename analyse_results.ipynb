{
 "cells": [
  {
   "cell_type": "code",
   "execution_count": 61,
   "metadata": {},
   "outputs": [],
   "source": [
    "import pandas as pd\n",
    "import mlflow\n",
    "import numpy as np"
   ]
  },
  {
   "cell_type": "code",
   "execution_count": 63,
   "metadata": {},
   "outputs": [
    {
     "data": {
      "text/html": [
       "<div>\n",
       "<style scoped>\n",
       "    .dataframe tbody tr th:only-of-type {\n",
       "        vertical-align: middle;\n",
       "    }\n",
       "\n",
       "    .dataframe tbody tr th {\n",
       "        vertical-align: top;\n",
       "    }\n",
       "\n",
       "    .dataframe thead th {\n",
       "        text-align: right;\n",
       "    }\n",
       "</style>\n",
       "<table border=\"1\" class=\"dataframe\">\n",
       "  <thead>\n",
       "    <tr style=\"text-align: right;\">\n",
       "      <th></th>\n",
       "      <th>metrics.accuracy</th>\n",
       "      <th>metrics.area_under_the_curve</th>\n",
       "      <th>metrics.f1</th>\n",
       "    </tr>\n",
       "    <tr>\n",
       "      <th>estimator_name</th>\n",
       "      <th></th>\n",
       "      <th></th>\n",
       "      <th></th>\n",
       "    </tr>\n",
       "  </thead>\n",
       "  <tbody>\n",
       "    <tr>\n",
       "      <th>K_NeighboursClassifier</th>\n",
       "      <td>0.230910</td>\n",
       "      <td>0.261822</td>\n",
       "      <td>0.104860</td>\n",
       "    </tr>\n",
       "    <tr>\n",
       "      <th>LogisticRegression</th>\n",
       "      <td>0.270979</td>\n",
       "      <td>0.225943</td>\n",
       "      <td>0.241442</td>\n",
       "    </tr>\n",
       "    <tr>\n",
       "      <th>RF_CUSUM_exogenous</th>\n",
       "      <td>0.473994</td>\n",
       "      <td>0.383085</td>\n",
       "      <td>0.472425</td>\n",
       "    </tr>\n",
       "    <tr>\n",
       "      <th>RF_HMM_exogenous</th>\n",
       "      <td>0.450983</td>\n",
       "      <td>0.368727</td>\n",
       "      <td>0.443824</td>\n",
       "    </tr>\n",
       "    <tr>\n",
       "      <th>RandomForestClassifier</th>\n",
       "      <td>0.315779</td>\n",
       "      <td>0.291579</td>\n",
       "      <td>0.238840</td>\n",
       "    </tr>\n",
       "    <tr>\n",
       "      <th>SVMClassifier</th>\n",
       "      <td>0.228468</td>\n",
       "      <td>0.246383</td>\n",
       "      <td>0.118606</td>\n",
       "    </tr>\n",
       "    <tr>\n",
       "      <th>k_neighbours_regressor</th>\n",
       "      <td>0.233772</td>\n",
       "      <td>0.262291</td>\n",
       "      <td>0.076644</td>\n",
       "    </tr>\n",
       "    <tr>\n",
       "      <th>lasso_regressor</th>\n",
       "      <td>0.568708</td>\n",
       "      <td>0.335655</td>\n",
       "      <td>0.563156</td>\n",
       "    </tr>\n",
       "    <tr>\n",
       "      <th>random_forest_regressor</th>\n",
       "      <td>0.402671</td>\n",
       "      <td>0.344702</td>\n",
       "      <td>0.389697</td>\n",
       "    </tr>\n",
       "    <tr>\n",
       "      <th>svm_regressor</th>\n",
       "      <td>0.289029</td>\n",
       "      <td>0.318252</td>\n",
       "      <td>0.164463</td>\n",
       "    </tr>\n",
       "  </tbody>\n",
       "</table>\n",
       "</div>"
      ],
      "text/plain": [
       "                         metrics.accuracy  metrics.area_under_the_curve  \\\n",
       "estimator_name                                                            \n",
       "K_NeighboursClassifier           0.230910                      0.261822   \n",
       "LogisticRegression               0.270979                      0.225943   \n",
       "RF_CUSUM_exogenous               0.473994                      0.383085   \n",
       "RF_HMM_exogenous                 0.450983                      0.368727   \n",
       "RandomForestClassifier           0.315779                      0.291579   \n",
       "SVMClassifier                    0.228468                      0.246383   \n",
       "k_neighbours_regressor           0.233772                      0.262291   \n",
       "lasso_regressor                  0.568708                      0.335655   \n",
       "random_forest_regressor          0.402671                      0.344702   \n",
       "svm_regressor                    0.289029                      0.318252   \n",
       "\n",
       "                         metrics.f1  \n",
       "estimator_name                       \n",
       "K_NeighboursClassifier     0.104860  \n",
       "LogisticRegression         0.241442  \n",
       "RF_CUSUM_exogenous         0.472425  \n",
       "RF_HMM_exogenous           0.443824  \n",
       "RandomForestClassifier     0.238840  \n",
       "SVMClassifier              0.118606  \n",
       "k_neighbours_regressor     0.076644  \n",
       "lasso_regressor            0.563156  \n",
       "random_forest_regressor    0.389697  \n",
       "svm_regressor              0.164463  "
      ]
     },
     "execution_count": 63,
     "metadata": {},
     "output_type": "execute_result"
    }
   ],
   "source": [
    "#get runs from mlflow\n",
    "mlflow.set_tracking_uri(\"http://localhost:5000\")\n",
    "runs = mlflow.search_runs(\"0\")\n",
    "runs['estimator_name']=runs['tags.mlflow.runName'].apply(lambda x : str(x).split('-')[0])\n",
    "pd.pivot_table(data=runs.fillna(0), values=['metrics.accuracy', 'metrics.f1', 'metrics.area_under_the_curve' ], index=['estimator_name'],aggfunc=np.average)"
   ]
  },
  {
   "cell_type": "code",
   "execution_count": null,
   "metadata": {},
   "outputs": [],
   "source": [
    "runs.to_csv('runs.csv')"
   ]
  },
  {
   "cell_type": "code",
   "execution_count": 44,
   "metadata": {},
   "outputs": [],
   "source": [
    "runs = pd.read_csv('runs.csv')"
   ]
  },
  {
   "cell_type": "code",
   "execution_count": 50,
   "metadata": {},
   "outputs": [],
   "source": [
    "runs['estimator_name']=runs['tags.mlflow.runName'].apply(lambda x : str(x).split('-')[0])"
   ]
  }
 ],
 "metadata": {
  "kernelspec": {
   "display_name": "Python 3.10.6 ('venv_m4study': venv)",
   "language": "python",
   "name": "python3"
  },
  "language_info": {
   "codemirror_mode": {
    "name": "ipython",
    "version": 3
   },
   "file_extension": ".py",
   "mimetype": "text/x-python",
   "name": "python",
   "nbconvert_exporter": "python",
   "pygments_lexer": "ipython3",
   "version": "3.10.6"
  },
  "orig_nbformat": 4,
  "vscode": {
   "interpreter": {
    "hash": "ed526b974d8c2ae670181904c891ba65b5c57624d092522589e2a55b419424a7"
   }
  }
 },
 "nbformat": 4,
 "nbformat_minor": 2
}
