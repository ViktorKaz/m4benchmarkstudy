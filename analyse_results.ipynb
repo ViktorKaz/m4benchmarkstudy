{
 "cells": [
  {
   "cell_type": "code",
   "execution_count": 1,
   "metadata": {},
   "outputs": [],
   "source": [
    "import pandas as pd\n",
    "import mlflow\n",
    "import numpy as np"
   ]
  },
  {
   "cell_type": "code",
   "execution_count": 2,
   "metadata": {},
   "outputs": [
    {
     "data": {
      "text/html": [
       "<div>\n",
       "<style scoped>\n",
       "    .dataframe tbody tr th:only-of-type {\n",
       "        vertical-align: middle;\n",
       "    }\n",
       "\n",
       "    .dataframe tbody tr th {\n",
       "        vertical-align: top;\n",
       "    }\n",
       "\n",
       "    .dataframe thead th {\n",
       "        text-align: right;\n",
       "    }\n",
       "</style>\n",
       "<table border=\"1\" class=\"dataframe\">\n",
       "  <thead>\n",
       "    <tr style=\"text-align: right;\">\n",
       "      <th></th>\n",
       "      <th>metrics.accuracy</th>\n",
       "      <th>metrics.area_under_the_curve</th>\n",
       "      <th>metrics.f1</th>\n",
       "    </tr>\n",
       "    <tr>\n",
       "      <th>estimator_name</th>\n",
       "      <th></th>\n",
       "      <th></th>\n",
       "      <th></th>\n",
       "    </tr>\n",
       "  </thead>\n",
       "  <tbody>\n",
       "    <tr>\n",
       "      <th>K_NeighboursClassifier</th>\n",
       "      <td>0.444994</td>\n",
       "      <td>0.449747</td>\n",
       "      <td>0.309160</td>\n",
       "    </tr>\n",
       "    <tr>\n",
       "      <th>LogisticRegression</th>\n",
       "      <td>0.414341</td>\n",
       "      <td>0.430451</td>\n",
       "      <td>0.327410</td>\n",
       "    </tr>\n",
       "    <tr>\n",
       "      <th>RF_CUSUM_exogenous</th>\n",
       "      <td>0.508682</td>\n",
       "      <td>0.507195</td>\n",
       "      <td>0.460019</td>\n",
       "    </tr>\n",
       "    <tr>\n",
       "      <th>RF_HMM_exogenous</th>\n",
       "      <td>0.500453</td>\n",
       "      <td>0.500917</td>\n",
       "      <td>0.464285</td>\n",
       "    </tr>\n",
       "    <tr>\n",
       "      <th>RandomForestClassifier</th>\n",
       "      <td>0.446918</td>\n",
       "      <td>0.431603</td>\n",
       "      <td>0.318736</td>\n",
       "    </tr>\n",
       "    <tr>\n",
       "      <th>SVMClassifier</th>\n",
       "      <td>0.439953</td>\n",
       "      <td>0.451747</td>\n",
       "      <td>0.209756</td>\n",
       "    </tr>\n",
       "    <tr>\n",
       "      <th>k_neighbours_regressor</th>\n",
       "      <td>0.506118</td>\n",
       "      <td>0.517260</td>\n",
       "      <td>0.385048</td>\n",
       "    </tr>\n",
       "    <tr>\n",
       "      <th>lasso_regressor</th>\n",
       "      <td>0.545871</td>\n",
       "      <td>0.525190</td>\n",
       "      <td>0.534841</td>\n",
       "    </tr>\n",
       "    <tr>\n",
       "      <th>random_forest_regressor</th>\n",
       "      <td>0.516218</td>\n",
       "      <td>0.520068</td>\n",
       "      <td>0.453327</td>\n",
       "    </tr>\n",
       "    <tr>\n",
       "      <th>svm_regressor</th>\n",
       "      <td>0.495924</td>\n",
       "      <td>0.507080</td>\n",
       "      <td>0.374319</td>\n",
       "    </tr>\n",
       "  </tbody>\n",
       "</table>\n",
       "</div>"
      ],
      "text/plain": [
       "                         metrics.accuracy  metrics.area_under_the_curve  \\\n",
       "estimator_name                                                            \n",
       "K_NeighboursClassifier           0.444994                      0.449747   \n",
       "LogisticRegression               0.414341                      0.430451   \n",
       "RF_CUSUM_exogenous               0.508682                      0.507195   \n",
       "RF_HMM_exogenous                 0.500453                      0.500917   \n",
       "RandomForestClassifier           0.446918                      0.431603   \n",
       "SVMClassifier                    0.439953                      0.451747   \n",
       "k_neighbours_regressor           0.506118                      0.517260   \n",
       "lasso_regressor                  0.545871                      0.525190   \n",
       "random_forest_regressor          0.516218                      0.520068   \n",
       "svm_regressor                    0.495924                      0.507080   \n",
       "\n",
       "                         metrics.f1  \n",
       "estimator_name                       \n",
       "K_NeighboursClassifier     0.309160  \n",
       "LogisticRegression         0.327410  \n",
       "RF_CUSUM_exogenous         0.460019  \n",
       "RF_HMM_exogenous           0.464285  \n",
       "RandomForestClassifier     0.318736  \n",
       "SVMClassifier              0.209756  \n",
       "k_neighbours_regressor     0.385048  \n",
       "lasso_regressor            0.534841  \n",
       "random_forest_regressor    0.453327  \n",
       "svm_regressor              0.374319  "
      ]
     },
     "execution_count": 2,
     "metadata": {},
     "output_type": "execute_result"
    }
   ],
   "source": [
    "#get runs from mlflow\n",
    "mlflow.set_tracking_uri(\"http://localhost:5000\")\n",
    "runs = mlflow.search_runs(\"0\")\n",
    "runs['estimator_name']=runs['tags.mlflow.runName'].apply(lambda x : str(x).split('-')[0])\n",
    "pd.pivot_table(data=runs.fillna(0), values=['metrics.accuracy', 'metrics.f1', 'metrics.area_under_the_curve' ], index=['estimator_name'],aggfunc=np.average)"
   ]
  },
  {
   "cell_type": "code",
   "execution_count": 3,
   "metadata": {},
   "outputs": [],
   "source": [
    "runs.to_csv('runs.csv')"
   ]
  },
  {
   "cell_type": "code",
   "execution_count": 4,
   "metadata": {},
   "outputs": [
    {
     "name": "stderr",
     "output_type": "stream",
     "text": [
      "/tmp/ipykernel_18988/2396321447.py:1: DtypeWarning: Columns (10) have mixed types. Specify dtype option on import or set low_memory=False.\n",
      "  runs = pd.read_csv('runs.csv')\n"
     ]
    }
   ],
   "source": [
    "runs = pd.read_csv('runs.csv')"
   ]
  },
  {
   "cell_type": "code",
   "execution_count": 5,
   "metadata": {},
   "outputs": [],
   "source": [
    "runs['estimator_name']=runs['tags.mlflow.runName'].apply(lambda x : str(x).split('-')[0])"
   ]
  }
 ],
 "metadata": {
  "kernelspec": {
   "display_name": "Python 3 (ipykernel)",
   "language": "python",
   "name": "python3"
  },
  "language_info": {
   "codemirror_mode": {
    "name": "ipython",
    "version": 3
   },
   "file_extension": ".py",
   "mimetype": "text/x-python",
   "name": "python",
   "nbconvert_exporter": "python",
   "pygments_lexer": "ipython3",
   "version": "3.10.6"
  },
  "vscode": {
   "interpreter": {
    "hash": "ed526b974d8c2ae670181904c891ba65b5c57624d092522589e2a55b419424a7"
   }
  }
 },
 "nbformat": 4,
 "nbformat_minor": 4
}
