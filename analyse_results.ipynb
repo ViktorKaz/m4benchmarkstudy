{
 "cells": [
  {
   "cell_type": "code",
   "execution_count": 1,
   "metadata": {},
   "outputs": [],
   "source": [
    "import pandas as pd\n",
    "import mlflow\n",
    "import numpy as np"
   ]
  },
  {
   "cell_type": "code",
   "execution_count": 2,
   "metadata": {},
   "outputs": [],
   "source": [
    "#get runs from mlflow\n",
    "# mlflow.set_tracking_uri(\"http://localhost:5000\")\n",
    "# runs = mlflow.search_runs(\"0\")"
   ]
  },
  {
   "cell_type": "code",
   "execution_count": 3,
   "metadata": {},
   "outputs": [],
   "source": [
    "runs = pd.read_csv('runs.csv')"
   ]
  },
  {
   "cell_type": "code",
   "execution_count": 4,
   "metadata": {},
   "outputs": [],
   "source": [
    "runs['estimator_name']=runs['tags.mlflow.runName'].apply(lambda x : str(x).split('-')[0])"
   ]
  },
  {
   "cell_type": "code",
   "execution_count": 10,
   "metadata": {},
   "outputs": [
    {
     "data": {
      "text/html": [
       "<div>\n",
       "<style scoped>\n",
       "    .dataframe tbody tr th:only-of-type {\n",
       "        vertical-align: middle;\n",
       "    }\n",
       "\n",
       "    .dataframe tbody tr th {\n",
       "        vertical-align: top;\n",
       "    }\n",
       "\n",
       "    .dataframe thead th {\n",
       "        text-align: right;\n",
       "    }\n",
       "</style>\n",
       "<table border=\"1\" class=\"dataframe\">\n",
       "  <thead>\n",
       "    <tr style=\"text-align: right;\">\n",
       "      <th></th>\n",
       "      <th>metrics.accuracy</th>\n",
       "      <th>metrics.area_under_the_curve</th>\n",
       "      <th>metrics.f1</th>\n",
       "    </tr>\n",
       "    <tr>\n",
       "      <th>estimator_name</th>\n",
       "      <th></th>\n",
       "      <th></th>\n",
       "      <th></th>\n",
       "    </tr>\n",
       "  </thead>\n",
       "  <tbody>\n",
       "    <tr>\n",
       "      <th>exogenous_pipeline</th>\n",
       "      <td>0.517133</td>\n",
       "      <td>0.513482</td>\n",
       "      <td>0.505778</td>\n",
       "    </tr>\n",
       "    <tr>\n",
       "      <th>regressor_pipeline</th>\n",
       "      <td>0.513870</td>\n",
       "      <td>0.510482</td>\n",
       "      <td>0.501689</td>\n",
       "    </tr>\n",
       "    <tr>\n",
       "      <th>supervised_classification_pipeline</th>\n",
       "      <td>0.480210</td>\n",
       "      <td>0.465621</td>\n",
       "      <td>0.429636</td>\n",
       "    </tr>\n",
       "  </tbody>\n",
       "</table>\n",
       "</div>"
      ],
      "text/plain": [
       "                                    metrics.accuracy  \\\n",
       "estimator_name                                         \n",
       "exogenous_pipeline                          0.517133   \n",
       "regressor_pipeline                          0.513870   \n",
       "supervised_classification_pipeline          0.480210   \n",
       "\n",
       "                                    metrics.area_under_the_curve  metrics.f1  \n",
       "estimator_name                                                                \n",
       "exogenous_pipeline                                      0.513482    0.505778  \n",
       "regressor_pipeline                                      0.510482    0.501689  \n",
       "supervised_classification_pipeline                      0.465621    0.429636  "
      ]
     },
     "execution_count": 10,
     "metadata": {},
     "output_type": "execute_result"
    }
   ],
   "source": [
    "pd.pivot_table(data=runs.fillna(0), values=['metrics.accuracy', 'metrics.f1', 'metrics.area_under_the_curve' ], index=['estimator_name'],aggfunc=np.average)"
   ]
  }
 ],
 "metadata": {
  "kernelspec": {
   "display_name": "Python 3.10.6 ('venv_m4study': venv)",
   "language": "python",
   "name": "python3"
  },
  "language_info": {
   "codemirror_mode": {
    "name": "ipython",
    "version": 3
   },
   "file_extension": ".py",
   "mimetype": "text/x-python",
   "name": "python",
   "nbconvert_exporter": "python",
   "pygments_lexer": "ipython3",
   "version": "3.10.6"
  },
  "orig_nbformat": 4,
  "vscode": {
   "interpreter": {
    "hash": "ed526b974d8c2ae670181904c891ba65b5c57624d092522589e2a55b419424a7"
   }
  }
 },
 "nbformat": 4,
 "nbformat_minor": 2
}
