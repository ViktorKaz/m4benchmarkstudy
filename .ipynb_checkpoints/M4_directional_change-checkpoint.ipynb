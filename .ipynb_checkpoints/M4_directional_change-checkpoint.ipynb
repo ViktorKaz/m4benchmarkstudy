{
 "cells": [
  {
   "cell_type": "code",
   "execution_count": 1,
   "id": "3e8eb9af-49bd-45e3-8110-4badd65f88bd",
   "metadata": {},
   "outputs": [],
   "source": [
    "import pandas as pd\n",
    "import matplotlib.pyplot as plt"
   ]
  },
  {
   "cell_type": "code",
   "execution_count": 2,
   "id": "ada4658d-5a41-4c50-98ea-81690904195f",
   "metadata": {},
   "outputs": [],
   "source": [
    "daily_train = pd.read_csv('Dataset/Train/Daily-train.csv')\n",
    "daily_test = pd.read_csv('Dataset/Test/Daily-test.csv')\n",
    "info = pd.read_csv('Dataset/M4-info.csv')"
   ]
  },
  {
   "cell_type": "code",
   "execution_count": 3,
   "id": "5ffb14c2-9805-4c82-a7c4-4a6925e31a53",
   "metadata": {},
   "outputs": [
    {
     "data": {
      "text/html": [
       "<div>\n",
       "<style scoped>\n",
       "    .dataframe tbody tr th:only-of-type {\n",
       "        vertical-align: middle;\n",
       "    }\n",
       "\n",
       "    .dataframe tbody tr th {\n",
       "        vertical-align: top;\n",
       "    }\n",
       "\n",
       "    .dataframe thead th {\n",
       "        text-align: right;\n",
       "    }\n",
       "</style>\n",
       "<table border=\"1\" class=\"dataframe\">\n",
       "  <thead>\n",
       "    <tr style=\"text-align: right;\">\n",
       "      <th></th>\n",
       "      <th>V1</th>\n",
       "      <th>V2</th>\n",
       "      <th>V3</th>\n",
       "      <th>V4</th>\n",
       "      <th>V5</th>\n",
       "      <th>V6</th>\n",
       "      <th>V7</th>\n",
       "      <th>V8</th>\n",
       "      <th>V9</th>\n",
       "      <th>V10</th>\n",
       "      <th>...</th>\n",
       "      <th>V9911</th>\n",
       "      <th>V9912</th>\n",
       "      <th>V9913</th>\n",
       "      <th>V9914</th>\n",
       "      <th>V9915</th>\n",
       "      <th>V9916</th>\n",
       "      <th>V9917</th>\n",
       "      <th>V9918</th>\n",
       "      <th>V9919</th>\n",
       "      <th>V9920</th>\n",
       "    </tr>\n",
       "  </thead>\n",
       "  <tbody>\n",
       "    <tr>\n",
       "      <th>0</th>\n",
       "      <td>D1</td>\n",
       "      <td>1017.10</td>\n",
       "      <td>1019.30</td>\n",
       "      <td>1017.00</td>\n",
       "      <td>1019.20</td>\n",
       "      <td>1018.70</td>\n",
       "      <td>1015.60</td>\n",
       "      <td>1018.50</td>\n",
       "      <td>1018.30</td>\n",
       "      <td>1018.4</td>\n",
       "      <td>...</td>\n",
       "      <td>NaN</td>\n",
       "      <td>NaN</td>\n",
       "      <td>NaN</td>\n",
       "      <td>NaN</td>\n",
       "      <td>NaN</td>\n",
       "      <td>NaN</td>\n",
       "      <td>NaN</td>\n",
       "      <td>NaN</td>\n",
       "      <td>NaN</td>\n",
       "      <td>NaN</td>\n",
       "    </tr>\n",
       "    <tr>\n",
       "      <th>1</th>\n",
       "      <td>D2</td>\n",
       "      <td>2793.70</td>\n",
       "      <td>2793.80</td>\n",
       "      <td>2803.70</td>\n",
       "      <td>2805.80</td>\n",
       "      <td>2802.30</td>\n",
       "      <td>2795.00</td>\n",
       "      <td>2806.40</td>\n",
       "      <td>2782.20</td>\n",
       "      <td>2780.3</td>\n",
       "      <td>...</td>\n",
       "      <td>NaN</td>\n",
       "      <td>NaN</td>\n",
       "      <td>NaN</td>\n",
       "      <td>NaN</td>\n",
       "      <td>NaN</td>\n",
       "      <td>NaN</td>\n",
       "      <td>NaN</td>\n",
       "      <td>NaN</td>\n",
       "      <td>NaN</td>\n",
       "      <td>NaN</td>\n",
       "    </tr>\n",
       "    <tr>\n",
       "      <th>2</th>\n",
       "      <td>D3</td>\n",
       "      <td>1091.30</td>\n",
       "      <td>1088.50</td>\n",
       "      <td>1085.70</td>\n",
       "      <td>1082.90</td>\n",
       "      <td>1080.10</td>\n",
       "      <td>1077.30</td>\n",
       "      <td>1074.50</td>\n",
       "      <td>1071.70</td>\n",
       "      <td>1068.9</td>\n",
       "      <td>...</td>\n",
       "      <td>NaN</td>\n",
       "      <td>NaN</td>\n",
       "      <td>NaN</td>\n",
       "      <td>NaN</td>\n",
       "      <td>NaN</td>\n",
       "      <td>NaN</td>\n",
       "      <td>NaN</td>\n",
       "      <td>NaN</td>\n",
       "      <td>NaN</td>\n",
       "      <td>NaN</td>\n",
       "    </tr>\n",
       "    <tr>\n",
       "      <th>3</th>\n",
       "      <td>D4</td>\n",
       "      <td>1092.00</td>\n",
       "      <td>1078.00</td>\n",
       "      <td>1064.00</td>\n",
       "      <td>1050.00</td>\n",
       "      <td>1036.00</td>\n",
       "      <td>1022.00</td>\n",
       "      <td>1008.00</td>\n",
       "      <td>1092.00</td>\n",
       "      <td>1078.0</td>\n",
       "      <td>...</td>\n",
       "      <td>NaN</td>\n",
       "      <td>NaN</td>\n",
       "      <td>NaN</td>\n",
       "      <td>NaN</td>\n",
       "      <td>NaN</td>\n",
       "      <td>NaN</td>\n",
       "      <td>NaN</td>\n",
       "      <td>NaN</td>\n",
       "      <td>NaN</td>\n",
       "      <td>NaN</td>\n",
       "    </tr>\n",
       "    <tr>\n",
       "      <th>4</th>\n",
       "      <td>D5</td>\n",
       "      <td>2938.63</td>\n",
       "      <td>2956.44</td>\n",
       "      <td>2964.41</td>\n",
       "      <td>2972.41</td>\n",
       "      <td>3014.97</td>\n",
       "      <td>3014.23</td>\n",
       "      <td>3024.08</td>\n",
       "      <td>3031.97</td>\n",
       "      <td>3062.7</td>\n",
       "      <td>...</td>\n",
       "      <td>NaN</td>\n",
       "      <td>NaN</td>\n",
       "      <td>NaN</td>\n",
       "      <td>NaN</td>\n",
       "      <td>NaN</td>\n",
       "      <td>NaN</td>\n",
       "      <td>NaN</td>\n",
       "      <td>NaN</td>\n",
       "      <td>NaN</td>\n",
       "      <td>NaN</td>\n",
       "    </tr>\n",
       "  </tbody>\n",
       "</table>\n",
       "<p>5 rows × 9920 columns</p>\n",
       "</div>"
      ],
      "text/plain": [
       "   V1       V2       V3       V4       V5       V6       V7       V8       V9  \\\n",
       "0  D1  1017.10  1019.30  1017.00  1019.20  1018.70  1015.60  1018.50  1018.30   \n",
       "1  D2  2793.70  2793.80  2803.70  2805.80  2802.30  2795.00  2806.40  2782.20   \n",
       "2  D3  1091.30  1088.50  1085.70  1082.90  1080.10  1077.30  1074.50  1071.70   \n",
       "3  D4  1092.00  1078.00  1064.00  1050.00  1036.00  1022.00  1008.00  1092.00   \n",
       "4  D5  2938.63  2956.44  2964.41  2972.41  3014.97  3014.23  3024.08  3031.97   \n",
       "\n",
       "      V10  ...  V9911  V9912  V9913  V9914  V9915  V9916  V9917  V9918  V9919  \\\n",
       "0  1018.4  ...    NaN    NaN    NaN    NaN    NaN    NaN    NaN    NaN    NaN   \n",
       "1  2780.3  ...    NaN    NaN    NaN    NaN    NaN    NaN    NaN    NaN    NaN   \n",
       "2  1068.9  ...    NaN    NaN    NaN    NaN    NaN    NaN    NaN    NaN    NaN   \n",
       "3  1078.0  ...    NaN    NaN    NaN    NaN    NaN    NaN    NaN    NaN    NaN   \n",
       "4  3062.7  ...    NaN    NaN    NaN    NaN    NaN    NaN    NaN    NaN    NaN   \n",
       "\n",
       "   V9920  \n",
       "0    NaN  \n",
       "1    NaN  \n",
       "2    NaN  \n",
       "3    NaN  \n",
       "4    NaN  \n",
       "\n",
       "[5 rows x 9920 columns]"
      ]
     },
     "execution_count": 3,
     "metadata": {},
     "output_type": "execute_result"
    }
   ],
   "source": [
    "daily_train.head()"
   ]
  },
  {
   "cell_type": "code",
   "execution_count": 4,
   "id": "23fbd24b-f98f-4c76-a946-35ad1d6503d1",
   "metadata": {},
   "outputs": [
    {
     "data": {
      "text/html": [
       "<div>\n",
       "<style scoped>\n",
       "    .dataframe tbody tr th:only-of-type {\n",
       "        vertical-align: middle;\n",
       "    }\n",
       "\n",
       "    .dataframe tbody tr th {\n",
       "        vertical-align: top;\n",
       "    }\n",
       "\n",
       "    .dataframe thead th {\n",
       "        text-align: right;\n",
       "    }\n",
       "</style>\n",
       "<table border=\"1\" class=\"dataframe\">\n",
       "  <thead>\n",
       "    <tr style=\"text-align: right;\">\n",
       "      <th></th>\n",
       "      <th>M4id</th>\n",
       "      <th>category</th>\n",
       "      <th>Frequency</th>\n",
       "      <th>Horizon</th>\n",
       "      <th>SP</th>\n",
       "      <th>StartingDate</th>\n",
       "    </tr>\n",
       "  </thead>\n",
       "  <tbody>\n",
       "    <tr>\n",
       "      <th>0</th>\n",
       "      <td>Y1</td>\n",
       "      <td>Macro</td>\n",
       "      <td>1</td>\n",
       "      <td>6</td>\n",
       "      <td>Yearly</td>\n",
       "      <td>01-01-79 12:00</td>\n",
       "    </tr>\n",
       "    <tr>\n",
       "      <th>1</th>\n",
       "      <td>Y2</td>\n",
       "      <td>Macro</td>\n",
       "      <td>1</td>\n",
       "      <td>6</td>\n",
       "      <td>Yearly</td>\n",
       "      <td>01-01-79 12:00</td>\n",
       "    </tr>\n",
       "    <tr>\n",
       "      <th>2</th>\n",
       "      <td>Y3</td>\n",
       "      <td>Macro</td>\n",
       "      <td>1</td>\n",
       "      <td>6</td>\n",
       "      <td>Yearly</td>\n",
       "      <td>01-01-79 12:00</td>\n",
       "    </tr>\n",
       "    <tr>\n",
       "      <th>3</th>\n",
       "      <td>Y4</td>\n",
       "      <td>Macro</td>\n",
       "      <td>1</td>\n",
       "      <td>6</td>\n",
       "      <td>Yearly</td>\n",
       "      <td>01-01-79 12:00</td>\n",
       "    </tr>\n",
       "    <tr>\n",
       "      <th>4</th>\n",
       "      <td>Y5</td>\n",
       "      <td>Macro</td>\n",
       "      <td>1</td>\n",
       "      <td>6</td>\n",
       "      <td>Yearly</td>\n",
       "      <td>01-01-79 12:00</td>\n",
       "    </tr>\n",
       "  </tbody>\n",
       "</table>\n",
       "</div>"
      ],
      "text/plain": [
       "  M4id category  Frequency  Horizon      SP    StartingDate\n",
       "0   Y1    Macro          1        6  Yearly  01-01-79 12:00\n",
       "1   Y2    Macro          1        6  Yearly  01-01-79 12:00\n",
       "2   Y3    Macro          1        6  Yearly  01-01-79 12:00\n",
       "3   Y4    Macro          1        6  Yearly  01-01-79 12:00\n",
       "4   Y5    Macro          1        6  Yearly  01-01-79 12:00"
      ]
     },
     "execution_count": 4,
     "metadata": {},
     "output_type": "execute_result"
    }
   ],
   "source": [
    "info.head()"
   ]
  },
  {
   "cell_type": "code",
   "execution_count": 5,
   "id": "4cc7bc24-58e0-4c49-8e02-7d971e42043e",
   "metadata": {},
   "outputs": [
    {
     "data": {
      "text/plain": [
       "<AxesSubplot: >"
      ]
     },
     "execution_count": 5,
     "metadata": {},
     "output_type": "execute_result"
    },
    {
     "data": {
      "image/png": "[encoded data removed]",
      "text/plain": [
       "<Figure size 640x480 with 1 Axes>"
      ]
     },
     "metadata": {},
     "output_type": "display_data"
    }
   ],
   "source": [
    "y_train = daily_train.iloc[0,:][1:].dropna()\n",
    "series_name = daily_train.iloc[0,:][0]\n",
    "start_index = info[info['M4id']==series_name]\n",
    "index = pd.date_range(start_index['StartingDate'].iloc[0],periods=len(y_train),freq='D')\n",
    "y_train.index = index\n",
    "y_train= y_train.astype('float')\n",
    "y_train.plot()"
   ]
  },
  {
   "cell_type": "code",
   "execution_count": 6,
   "id": "5818285a-d29f-405b-89d8-d51fce5f1944",
   "metadata": {},
   "outputs": [
    {
     "data": {
      "text/plain": [
       "<AxesSubplot: >"
      ]
     },
     "execution_count": 6,
     "metadata": {},
     "output_type": "execute_result"
    },
    {
     "data": {
      "image/png": "[encoded data removed]",
      "text/plain": [
       "<Figure size 640x480 with 1 Axes>"
      ]
     },
     "metadata": {},
     "output_type": "display_data"
    }
   ],
   "source": [
    "y_test = daily_test.iloc[0,:][1:].dropna()\n",
    "start_index = y_train.index[-1]  + pd.DateOffset(1)\n",
    "index = pd.date_range(start_index,periods=len(y_test),freq='D')\n",
    "y_test.index = index\n",
    "y_test= y_test.astype('float')\n",
    "y_test.plot()"
   ]
  },
  {
   "cell_type": "markdown",
   "id": "99461243-304b-4a3f-b55f-8c9103ea2c40",
   "metadata": {},
   "source": [
    "## Reduce directional change to regression\n",
    "\n",
    "Reduce time series forecasting problem to regression. Make forecast over the forecasting horizon. Convert forecasted values to binary 1 (up), 0 (down)."
   ]
  },
  {
   "cell_type": "code",
   "execution_count": 7,
   "id": "ab64a482-787b-45f8-9ba7-edc297b412d2",
   "metadata": {},
   "outputs": [],
   "source": [
    "from sklearn.ensemble import RandomForestRegressor\n",
    "from sktime.forecasting.compose import make_reduction"
   ]
  },
  {
   "cell_type": "code",
   "execution_count": 8,
   "id": "8b8b69a0-4bf4-4ae8-8c70-cd2e2ec673c4",
   "metadata": {},
   "outputs": [],
   "source": [
    "import numpy as np\n",
    "from sktime.forecasting.base import ForecastingHorizon\n",
    "fh = ForecastingHorizon(np.arange(1,len(y_test)+1))"
   ]
  },
  {
   "cell_type": "code",
   "execution_count": 9,
   "id": "d6e00ebb-ded4-43a9-b354-feea054ccfd6",
   "metadata": {},
   "outputs": [
    {
     "data": {
      "text/html": [
       "<style>#sk-container-id-1 {color: black;background-color: white;}#sk-container-id-1 pre{padding: 0;}#sk-container-id-1 div.sk-toggleable {background-color: white;}#sk-container-id-1 label.sk-toggleable__label {cursor: pointer;display: block;width: 100%;margin-bottom: 0;padding: 0.3em;box-sizing: border-box;text-align: center;}#sk-container-id-1 label.sk-toggleable__label-arrow:before {content: \"▸\";float: left;margin-right: 0.25em;color: #696969;}#sk-container-id-1 label.sk-toggleable__label-arrow:hover:before {color: black;}#sk-container-id-1 div.sk-estimator:hover label.sk-toggleable__label-arrow:before {color: black;}#sk-container-id-1 div.sk-toggleable__content {max-height: 0;max-width: 0;overflow: hidden;text-align: left;background-color: #f0f8ff;}#sk-container-id-1 div.sk-toggleable__content pre {margin: 0.2em;color: black;border-radius: 0.25em;background-color: #f0f8ff;}#sk-container-id-1 input.sk-toggleable__control:checked~div.sk-toggleable__content {max-height: 200px;max-width: 100%;overflow: auto;}#sk-container-id-1 input.sk-toggleable__control:checked~label.sk-toggleable__label-arrow:before {content: \"▾\";}#sk-container-id-1 div.sk-estimator input.sk-toggleable__control:checked~label.sk-toggleable__label {background-color: #d4ebff;}#sk-container-id-1 div.sk-label input.sk-toggleable__control:checked~label.sk-toggleable__label {background-color: #d4ebff;}#sk-container-id-1 input.sk-hidden--visually {border: 0;clip: rect(1px 1px 1px 1px);clip: rect(1px, 1px, 1px, 1px);height: 1px;margin: -1px;overflow: hidden;padding: 0;position: absolute;width: 1px;}#sk-container-id-1 div.sk-estimator {font-family: monospace;background-color: #f0f8ff;border: 1px dotted black;border-radius: 0.25em;box-sizing: border-box;margin-bottom: 0.5em;}#sk-container-id-1 div.sk-estimator:hover {background-color: #d4ebff;}#sk-container-id-1 div.sk-parallel-item::after {content: \"\";width: 100%;border-bottom: 1px solid gray;flex-grow: 1;}#sk-container-id-1 div.sk-label:hover label.sk-toggleable__label {background-color: #d4ebff;}#sk-container-id-1 div.sk-serial::before {content: \"\";position: absolute;border-left: 1px solid gray;box-sizing: border-box;top: 0;bottom: 0;left: 50%;z-index: 0;}#sk-container-id-1 div.sk-serial {display: flex;flex-direction: column;align-items: center;background-color: white;padding-right: 0.2em;padding-left: 0.2em;position: relative;}#sk-container-id-1 div.sk-item {position: relative;z-index: 1;}#sk-container-id-1 div.sk-parallel {display: flex;align-items: stretch;justify-content: center;background-color: white;position: relative;}#sk-container-id-1 div.sk-item::before, #sk-container-id-1 div.sk-parallel-item::before {content: \"\";position: absolute;border-left: 1px solid gray;box-sizing: border-box;top: 0;bottom: 0;left: 50%;z-index: -1;}#sk-container-id-1 div.sk-parallel-item {display: flex;flex-direction: column;z-index: 1;position: relative;background-color: white;}#sk-container-id-1 div.sk-parallel-item:first-child::after {align-self: flex-end;width: 50%;}#sk-container-id-1 div.sk-parallel-item:last-child::after {align-self: flex-start;width: 50%;}#sk-container-id-1 div.sk-parallel-item:only-child::after {width: 0;}#sk-container-id-1 div.sk-dashed-wrapped {border: 1px dashed gray;margin: 0 0.4em 0.5em 0.4em;box-sizing: border-box;padding-bottom: 0.4em;background-color: white;}#sk-container-id-1 div.sk-label label {font-family: monospace;font-weight: bold;display: inline-block;line-height: 1.2em;}#sk-container-id-1 div.sk-label-container {text-align: center;}#sk-container-id-1 div.sk-container {/* jupyter's `normalize.less` sets `[hidden] { display: none; }` but bootstrap.min.css set `[hidden] { display: none !important; }` so we also need the `!important` here to be able to override the default hidden behavior on the sphinx rendered scikit-learn.org. See: https://github.com/scikit-learn/scikit-learn/issues/21755 */display: inline-block !important;position: relative;}#sk-container-id-1 div.sk-text-repr-fallback {display: none;}</style><div id=\"sk-container-id-1\" class=\"sk-top-container\"><div class=\"sk-text-repr-fallback\"><pre>RecursiveTabularRegressionForecaster(estimator=RandomForestRegressor(),\n",
       "                                     window_length=15)</pre><b>In a Jupyter environment, please rerun this cell to show the HTML representation or trust the notebook. <br />On GitHub, the HTML representation is unable to render, please try loading this page with nbviewer.org.</b></div><div class=\"sk-container\" hidden><div class=\"sk-item sk-dashed-wrapped\"><div class=\"sk-label-container\"><div class=\"sk-label sk-toggleable\"><input class=\"sk-toggleable__control sk-hidden--visually\" id=\"sk-estimator-id-1\" type=\"checkbox\" ><label for=\"sk-estimator-id-1\" class=\"sk-toggleable__label sk-toggleable__label-arrow\">RecursiveTabularRegressionForecaster</label><div class=\"sk-toggleable__content\"><pre>RecursiveTabularRegressionForecaster(estimator=RandomForestRegressor(),\n",
       "                                     window_length=15)</pre></div></div></div><div class=\"sk-parallel\"><div class=\"sk-parallel-item\"><div class=\"sk-item\"><div class=\"sk-label-container\"><div class=\"sk-label sk-toggleable\"><input class=\"sk-toggleable__control sk-hidden--visually\" id=\"sk-estimator-id-2\" type=\"checkbox\" ><label for=\"sk-estimator-id-2\" class=\"sk-toggleable__label sk-toggleable__label-arrow\">estimator: RandomForestRegressor</label><div class=\"sk-toggleable__content\"><pre>RandomForestRegressor()</pre></div></div></div><div class=\"sk-serial\"><div class=\"sk-item\"><div class=\"sk-estimator sk-toggleable\"><input class=\"sk-toggleable__control sk-hidden--visually\" id=\"sk-estimator-id-3\" type=\"checkbox\" ><label for=\"sk-estimator-id-3\" class=\"sk-toggleable__label sk-toggleable__label-arrow\">RandomForestRegressor</label><div class=\"sk-toggleable__content\"><pre>RandomForestRegressor()</pre></div></div></div></div></div></div></div></div></div></div>"
      ],
      "text/plain": [
       "RecursiveTabularRegressionForecaster(estimator=RandomForestRegressor(),\n",
       "                                     window_length=15)"
      ]
     },
     "execution_count": 9,
     "metadata": {},
     "output_type": "execute_result"
    }
   ],
   "source": [
    "regressor = RandomForestRegressor()\n",
    "\n",
    "forecaster = make_reduction(regressor, window_length=15, strategy=\"recursive\")\n",
    "forecaster.fit(y_train)"
   ]
  },
  {
   "cell_type": "code",
   "execution_count": 10,
   "id": "19832090-596e-4e4f-ad43-9847ee1f80d4",
   "metadata": {},
   "outputs": [],
   "source": [
    "y_pred = forecaster.predict(fh=fh)\n"
   ]
  },
  {
   "cell_type": "code",
   "execution_count": 11,
   "id": "2c2553f2-6dda-4728-8c52-dc00b646597a",
   "metadata": {},
   "outputs": [
    {
     "data": {
      "image/png": "[encoded data removed]",
      "text/plain": [
       "<Figure size 640x480 with 1 Axes>"
      ]
     },
     "metadata": {},
     "output_type": "display_data"
    }
   ],
   "source": [
    "plt.plot(y_pred, label='predicted')\n",
    "plt.plot(y_test, label='true')\n",
    "plt.legend()\n",
    "plt.xticks(rotation=90)\n",
    "plt.show()"
   ]
  },
  {
   "cell_type": "code",
   "execution_count": 12,
   "id": "ced51f19-6e42-4e60-bc33-286ca1cfabb9",
   "metadata": {},
   "outputs": [],
   "source": [
    "def convert_regression_to_dc(y1,y2):\n",
    "    \"\"\"\n",
    "    Converts regression output to directional change output where 1 means up 0 means down\n",
    "    Parameters\n",
    "    ----------\n",
    "    y1 : pd.Series\n",
    "        Series preceeding y2. It is used only to calculate the value of the first item in y2 (up down relative to the last value of y1)\n",
    "    y2 : pd.Series\n",
    "    \n",
    "    Returns\n",
    "    -------\n",
    "        pd.Series\n",
    "    \"\"\"\n",
    "    concat_y1_y2 = pd.concat([y1[-2:-1],y2])\n",
    "    dc = concat_y1_y2.shift(-1) > concat_y1_y2\n",
    "    dc = dc[0:-1]\n",
    "    dc[dc==True] =1\n",
    "    dc[dc==False] =0\n",
    "    dc = dc.astype('int')\n",
    "    return dc"
   ]
  },
  {
   "cell_type": "code",
   "execution_count": 13,
   "id": "2e0b281b-d92f-485f-98c1-9ff7c8c4f50f",
   "metadata": {},
   "outputs": [],
   "source": [
    "true_dc = convert_regression_to_dc(y_train,y_test)\n",
    "predict_dc = convert_regression_to_dc(y_train, y_pred)"
   ]
  },
  {
   "cell_type": "code",
   "execution_count": 14,
   "id": "6ffbe3c4-a0df-44ad-a79b-b39a086fe78a",
   "metadata": {},
   "outputs": [],
   "source": [
    "df = pd.DataFrame.from_dict({'true': predict_dc.values, 'predict': predict_dc.values})\n",
    "df.index = predict_dc.index"
   ]
  },
  {
   "cell_type": "markdown",
   "id": "aa2db667-cc78-4abc-85de-695fc2f5fb95",
   "metadata": {},
   "source": [
    "evaluation"
   ]
  },
  {
   "cell_type": "code",
   "execution_count": 15,
   "id": "71aa3e89-5a96-41c8-b784-890d80c609e4",
   "metadata": {},
   "outputs": [],
   "source": [
    "from sklearn.metrics import accuracy_score, f1_score, roc_curve, auc"
   ]
  },
  {
   "cell_type": "code",
   "execution_count": 16,
   "id": "ffbcbf93-f48a-449c-acbe-384d986fbaf4",
   "metadata": {},
   "outputs": [
    {
     "data": {
      "text/plain": [
       "0.6428571428571429"
      ]
     },
     "execution_count": 16,
     "metadata": {},
     "output_type": "execute_result"
    }
   ],
   "source": [
    "accuracy_score(true_dc.tolist(), predict_dc.tolist())"
   ]
  },
  {
   "cell_type": "code",
   "execution_count": 17,
   "id": "3aa10f69-9823-4147-bae8-7a1539d11e27",
   "metadata": {},
   "outputs": [
    {
     "data": {
      "text/plain": [
       "0.7058823529411764"
      ]
     },
     "execution_count": 17,
     "metadata": {},
     "output_type": "execute_result"
    }
   ],
   "source": [
    "f1_score(true_dc.tolist(), predict_dc.tolist())"
   ]
  },
  {
   "cell_type": "code",
   "execution_count": 18,
   "id": "de5868c5-e23e-4866-9aac-1bd97cdaf798",
   "metadata": {},
   "outputs": [
    {
     "data": {
      "text/plain": [
       "0.7727272727272727"
      ]
     },
     "execution_count": 18,
     "metadata": {},
     "output_type": "execute_result"
    }
   ],
   "source": [
    "fpr, tpr, thresholds = roc_curve(true_dc.tolist(), predict_dc.tolist(), pos_label=1)\n",
    "auc(fpr,tpr)"
   ]
  },
  {
   "cell_type": "markdown",
   "id": "1a694ddc-c05e-4e67-9910-6973074e3f1f",
   "metadata": {},
   "source": [
    "## Reduce directional change to tabular classification\n",
    "\n",
    "\n",
    "Use sktime's _`sliding_window_transform` function to convert the time series to tabular format. Convert labels to binary 1 (up), 0 (down). Train supervised classfication algorithms on the transformed dataset."
   ]
  },
  {
   "cell_type": "code",
   "execution_count": 19,
   "id": "ca7a62b9-fa63-47cd-bb53-d214c4040d7a",
   "metadata": {},
   "outputs": [],
   "source": [
    "from sktime.forecasting.compose._reduce import _sliding_window_transform\n",
    "\n",
    "def time_series_to_tabular(y, window_length):\n",
    "    \"\"\"\n",
    "    Converts a pd.Series to tabular format. Lables target variable 1 for up 0 for down\n",
    "    \n",
    "    Parameters\n",
    "    ----------\n",
    "    y : pd.Series\n",
    "        input time series\n",
    "    window_length : int\n",
    "        number of features for each raw of X\n",
    "    \n",
    "    Returns\n",
    "    -------\n",
    "        tuple of (numpy.ndarray, numpy.ndarray) where the first element are the target (y) variable and the second element are the features (X)\n",
    "    \"\"\"\n",
    "    fh=ForecastingHorizon([1])\n",
    "    y_tmp,x_dc = _sliding_window_transform(y,window_length=window_length,fh=fh)\n",
    "    y_dc = np.zeros(len(y_tmp))\n",
    "    y_tmp = y_tmp.reshape(x_dc[:,-1].shape)\n",
    "    y_mask = (x_dc[:,-1] > y_tmp) #up observations\n",
    "    y_dc[y_mask]=1\n",
    "    return y_dc, x_dc\n"
   ]
  },
  {
   "cell_type": "code",
   "execution_count": 20,
   "id": "f10e1d08-34ef-4d0d-b28c-e451449fcfb7",
   "metadata": {},
   "outputs": [],
   "source": [
    "window_length=100"
   ]
  },
  {
   "cell_type": "code",
   "execution_count": 21,
   "id": "0af4d1bc-e181-4aa4-816f-7d6c0b3b8598",
   "metadata": {},
   "outputs": [],
   "source": [
    "y_dc, x_dc = time_series_to_tabular(y_train, window_length=window_length)"
   ]
  },
  {
   "cell_type": "markdown",
   "id": "f1ce6a4d-c2d3-4457-9bf6-44ceb54790cf",
   "metadata": {},
   "source": [
    "supervised classification"
   ]
  },
  {
   "cell_type": "code",
   "execution_count": 22,
   "id": "552491db-81aa-4dc2-944d-aff10b3b139d",
   "metadata": {},
   "outputs": [],
   "source": [
    "from sklearn.ensemble import RandomForestClassifier"
   ]
  },
  {
   "cell_type": "code",
   "execution_count": 23,
   "id": "218d8706-424b-4965-a303-a5c604010d66",
   "metadata": {},
   "outputs": [
    {
     "data": {
      "text/html": [
       "<style>#sk-container-id-2 {color: black;background-color: white;}#sk-container-id-2 pre{padding: 0;}#sk-container-id-2 div.sk-toggleable {background-color: white;}#sk-container-id-2 label.sk-toggleable__label {cursor: pointer;display: block;width: 100%;margin-bottom: 0;padding: 0.3em;box-sizing: border-box;text-align: center;}#sk-container-id-2 label.sk-toggleable__label-arrow:before {content: \"▸\";float: left;margin-right: 0.25em;color: #696969;}#sk-container-id-2 label.sk-toggleable__label-arrow:hover:before {color: black;}#sk-container-id-2 div.sk-estimator:hover label.sk-toggleable__label-arrow:before {color: black;}#sk-container-id-2 div.sk-toggleable__content {max-height: 0;max-width: 0;overflow: hidden;text-align: left;background-color: #f0f8ff;}#sk-container-id-2 div.sk-toggleable__content pre {margin: 0.2em;color: black;border-radius: 0.25em;background-color: #f0f8ff;}#sk-container-id-2 input.sk-toggleable__control:checked~div.sk-toggleable__content {max-height: 200px;max-width: 100%;overflow: auto;}#sk-container-id-2 input.sk-toggleable__control:checked~label.sk-toggleable__label-arrow:before {content: \"▾\";}#sk-container-id-2 div.sk-estimator input.sk-toggleable__control:checked~label.sk-toggleable__label {background-color: #d4ebff;}#sk-container-id-2 div.sk-label input.sk-toggleable__control:checked~label.sk-toggleable__label {background-color: #d4ebff;}#sk-container-id-2 input.sk-hidden--visually {border: 0;clip: rect(1px 1px 1px 1px);clip: rect(1px, 1px, 1px, 1px);height: 1px;margin: -1px;overflow: hidden;padding: 0;position: absolute;width: 1px;}#sk-container-id-2 div.sk-estimator {font-family: monospace;background-color: #f0f8ff;border: 1px dotted black;border-radius: 0.25em;box-sizing: border-box;margin-bottom: 0.5em;}#sk-container-id-2 div.sk-estimator:hover {background-color: #d4ebff;}#sk-container-id-2 div.sk-parallel-item::after {content: \"\";width: 100%;border-bottom: 1px solid gray;flex-grow: 1;}#sk-container-id-2 div.sk-label:hover label.sk-toggleable__label {background-color: #d4ebff;}#sk-container-id-2 div.sk-serial::before {content: \"\";position: absolute;border-left: 1px solid gray;box-sizing: border-box;top: 0;bottom: 0;left: 50%;z-index: 0;}#sk-container-id-2 div.sk-serial {display: flex;flex-direction: column;align-items: center;background-color: white;padding-right: 0.2em;padding-left: 0.2em;position: relative;}#sk-container-id-2 div.sk-item {position: relative;z-index: 1;}#sk-container-id-2 div.sk-parallel {display: flex;align-items: stretch;justify-content: center;background-color: white;position: relative;}#sk-container-id-2 div.sk-item::before, #sk-container-id-2 div.sk-parallel-item::before {content: \"\";position: absolute;border-left: 1px solid gray;box-sizing: border-box;top: 0;bottom: 0;left: 50%;z-index: -1;}#sk-container-id-2 div.sk-parallel-item {display: flex;flex-direction: column;z-index: 1;position: relative;background-color: white;}#sk-container-id-2 div.sk-parallel-item:first-child::after {align-self: flex-end;width: 50%;}#sk-container-id-2 div.sk-parallel-item:last-child::after {align-self: flex-start;width: 50%;}#sk-container-id-2 div.sk-parallel-item:only-child::after {width: 0;}#sk-container-id-2 div.sk-dashed-wrapped {border: 1px dashed gray;margin: 0 0.4em 0.5em 0.4em;box-sizing: border-box;padding-bottom: 0.4em;background-color: white;}#sk-container-id-2 div.sk-label label {font-family: monospace;font-weight: bold;display: inline-block;line-height: 1.2em;}#sk-container-id-2 div.sk-label-container {text-align: center;}#sk-container-id-2 div.sk-container {/* jupyter's `normalize.less` sets `[hidden] { display: none; }` but bootstrap.min.css set `[hidden] { display: none !important; }` so we also need the `!important` here to be able to override the default hidden behavior on the sphinx rendered scikit-learn.org. See: https://github.com/scikit-learn/scikit-learn/issues/21755 */display: inline-block !important;position: relative;}#sk-container-id-2 div.sk-text-repr-fallback {display: none;}</style><div id=\"sk-container-id-2\" class=\"sk-top-container\"><div class=\"sk-text-repr-fallback\"><pre>RandomForestClassifier()</pre><b>In a Jupyter environment, please rerun this cell to show the HTML representation or trust the notebook. <br />On GitHub, the HTML representation is unable to render, please try loading this page with nbviewer.org.</b></div><div class=\"sk-container\" hidden><div class=\"sk-item\"><div class=\"sk-estimator sk-toggleable\"><input class=\"sk-toggleable__control sk-hidden--visually\" id=\"sk-estimator-id-4\" type=\"checkbox\" checked><label for=\"sk-estimator-id-4\" class=\"sk-toggleable__label sk-toggleable__label-arrow\">RandomForestClassifier</label><div class=\"sk-toggleable__content\"><pre>RandomForestClassifier()</pre></div></div></div></div></div>"
      ],
      "text/plain": [
       "RandomForestClassifier()"
      ]
     },
     "execution_count": 23,
     "metadata": {},
     "output_type": "execute_result"
    }
   ],
   "source": [
    "cls = RandomForestClassifier()\n",
    "cls.fit(X=x_dc, y=y_dc)"
   ]
  },
  {
   "cell_type": "markdown",
   "id": "a7086767-ae24-4a15-9b97-e28971e70f93",
   "metadata": {},
   "source": [
    "concatenate the train and testing sets. Reduce to supervised classification problem to produce one step ahead directional forecasts.\n",
    "\n",
    "The sliding window uses the previous observatrions in the training and test set to produce a one step ahead forecast."
   ]
  },
  {
   "cell_type": "code",
   "execution_count": 24,
   "id": "377603ce-a664-460c-8e19-2f041021d50b",
   "metadata": {},
   "outputs": [],
   "source": [
    "y_test_concat = pd.concat([y_train[-window_length-1:-1],y_test])"
   ]
  },
  {
   "cell_type": "code",
   "execution_count": 25,
   "id": "ae88fab5-da6c-441a-95e7-3106b749eff1",
   "metadata": {},
   "outputs": [],
   "source": [
    "y_dc_test, x_dc_test = time_series_to_tabular(y_test_concat, window_length=window_length)"
   ]
  },
  {
   "cell_type": "code",
   "execution_count": 26,
   "id": "3f53bcb9-6e53-459a-aabf-544856046318",
   "metadata": {},
   "outputs": [],
   "source": [
    "y_dc_predict = cls.predict(X=x_dc_test)"
   ]
  },
  {
   "cell_type": "code",
   "execution_count": 27,
   "id": "c163c7b0-0964-4376-b85d-04de5fe5e30a",
   "metadata": {},
   "outputs": [
    {
     "data": {
      "text/plain": [
       "array([1., 1., 1., 1., 1., 1., 1., 1., 1., 1., 1., 1., 1., 1.])"
      ]
     },
     "execution_count": 27,
     "metadata": {},
     "output_type": "execute_result"
    }
   ],
   "source": [
    "y_dc_predict"
   ]
  },
  {
   "cell_type": "code",
   "execution_count": 28,
   "id": "423b56cb-b674-4669-8142-c043ccc778b9",
   "metadata": {},
   "outputs": [
    {
     "data": {
      "text/plain": [
       "1996-12-01 12:00:00    2039.2\n",
       "1996-12-02 12:00:00    2035.0\n",
       "1996-12-03 12:00:00    2051.8\n",
       "1996-12-04 12:00:00    2061.8\n",
       "1996-12-05 12:00:00    2063.5\n",
       "1996-12-06 12:00:00    2069.5\n",
       "1996-12-07 12:00:00    2054.0\n",
       "1996-12-08 12:00:00    2057.0\n",
       "1996-12-09 12:00:00    2062.8\n",
       "1996-12-10 12:00:00    2066.4\n",
       "1996-12-11 12:00:00    2067.4\n",
       "1996-12-12 12:00:00    2071.4\n",
       "1996-12-13 12:00:00    2083.8\n",
       "1996-12-14 12:00:00    2080.6\n",
       "Freq: D, Name: 0, dtype: float64"
      ]
     },
     "execution_count": 28,
     "metadata": {},
     "output_type": "execute_result"
    }
   ],
   "source": [
    "y_test"
   ]
  },
  {
   "cell_type": "markdown",
   "id": "109b9aa7-2bee-4c70-bddd-305396ce0084",
   "metadata": {},
   "source": [
    "## Reduce directional change to forecasting with exogenous variables\n",
    "\n",
    "- train HMM to predict state\n",
    "- forecast future values using the state as an exogenous variable\n",
    "- convert forecast to binary up, down predictions"
   ]
  },
  {
   "cell_type": "code",
   "execution_count": 29,
   "id": "6e9fc741-034d-43d3-b9be-3e325f831eb6",
   "metadata": {},
   "outputs": [],
   "source": [
    "from hmmlearn import hmm"
   ]
  },
  {
   "cell_type": "code",
   "execution_count": 30,
   "id": "6ed3963e-3088-48b9-bd59-d1839167f373",
   "metadata": {},
   "outputs": [
    {
     "data": {
      "text/html": [
       "<style>#sk-container-id-3 {color: black;background-color: white;}#sk-container-id-3 pre{padding: 0;}#sk-container-id-3 div.sk-toggleable {background-color: white;}#sk-container-id-3 label.sk-toggleable__label {cursor: pointer;display: block;width: 100%;margin-bottom: 0;padding: 0.3em;box-sizing: border-box;text-align: center;}#sk-container-id-3 label.sk-toggleable__label-arrow:before {content: \"▸\";float: left;margin-right: 0.25em;color: #696969;}#sk-container-id-3 label.sk-toggleable__label-arrow:hover:before {color: black;}#sk-container-id-3 div.sk-estimator:hover label.sk-toggleable__label-arrow:before {color: black;}#sk-container-id-3 div.sk-toggleable__content {max-height: 0;max-width: 0;overflow: hidden;text-align: left;background-color: #f0f8ff;}#sk-container-id-3 div.sk-toggleable__content pre {margin: 0.2em;color: black;border-radius: 0.25em;background-color: #f0f8ff;}#sk-container-id-3 input.sk-toggleable__control:checked~div.sk-toggleable__content {max-height: 200px;max-width: 100%;overflow: auto;}#sk-container-id-3 input.sk-toggleable__control:checked~label.sk-toggleable__label-arrow:before {content: \"▾\";}#sk-container-id-3 div.sk-estimator input.sk-toggleable__control:checked~label.sk-toggleable__label {background-color: #d4ebff;}#sk-container-id-3 div.sk-label input.sk-toggleable__control:checked~label.sk-toggleable__label {background-color: #d4ebff;}#sk-container-id-3 input.sk-hidden--visually {border: 0;clip: rect(1px 1px 1px 1px);clip: rect(1px, 1px, 1px, 1px);height: 1px;margin: -1px;overflow: hidden;padding: 0;position: absolute;width: 1px;}#sk-container-id-3 div.sk-estimator {font-family: monospace;background-color: #f0f8ff;border: 1px dotted black;border-radius: 0.25em;box-sizing: border-box;margin-bottom: 0.5em;}#sk-container-id-3 div.sk-estimator:hover {background-color: #d4ebff;}#sk-container-id-3 div.sk-parallel-item::after {content: \"\";width: 100%;border-bottom: 1px solid gray;flex-grow: 1;}#sk-container-id-3 div.sk-label:hover label.sk-toggleable__label {background-color: #d4ebff;}#sk-container-id-3 div.sk-serial::before {content: \"\";position: absolute;border-left: 1px solid gray;box-sizing: border-box;top: 0;bottom: 0;left: 50%;z-index: 0;}#sk-container-id-3 div.sk-serial {display: flex;flex-direction: column;align-items: center;background-color: white;padding-right: 0.2em;padding-left: 0.2em;position: relative;}#sk-container-id-3 div.sk-item {position: relative;z-index: 1;}#sk-container-id-3 div.sk-parallel {display: flex;align-items: stretch;justify-content: center;background-color: white;position: relative;}#sk-container-id-3 div.sk-item::before, #sk-container-id-3 div.sk-parallel-item::before {content: \"\";position: absolute;border-left: 1px solid gray;box-sizing: border-box;top: 0;bottom: 0;left: 50%;z-index: -1;}#sk-container-id-3 div.sk-parallel-item {display: flex;flex-direction: column;z-index: 1;position: relative;background-color: white;}#sk-container-id-3 div.sk-parallel-item:first-child::after {align-self: flex-end;width: 50%;}#sk-container-id-3 div.sk-parallel-item:last-child::after {align-self: flex-start;width: 50%;}#sk-container-id-3 div.sk-parallel-item:only-child::after {width: 0;}#sk-container-id-3 div.sk-dashed-wrapped {border: 1px dashed gray;margin: 0 0.4em 0.5em 0.4em;box-sizing: border-box;padding-bottom: 0.4em;background-color: white;}#sk-container-id-3 div.sk-label label {font-family: monospace;font-weight: bold;display: inline-block;line-height: 1.2em;}#sk-container-id-3 div.sk-label-container {text-align: center;}#sk-container-id-3 div.sk-container {/* jupyter's `normalize.less` sets `[hidden] { display: none; }` but bootstrap.min.css set `[hidden] { display: none !important; }` so we also need the `!important` here to be able to override the default hidden behavior on the sphinx rendered scikit-learn.org. See: https://github.com/scikit-learn/scikit-learn/issues/21755 */display: inline-block !important;position: relative;}#sk-container-id-3 div.sk-text-repr-fallback {display: none;}</style><div id=\"sk-container-id-3\" class=\"sk-top-container\"><div class=\"sk-text-repr-fallback\"><pre>GaussianHMM(n_components=3, n_iter=1000)</pre><b>In a Jupyter environment, please rerun this cell to show the HTML representation or trust the notebook. <br />On GitHub, the HTML representation is unable to render, please try loading this page with nbviewer.org.</b></div><div class=\"sk-container\" hidden><div class=\"sk-item\"><div class=\"sk-estimator sk-toggleable\"><input class=\"sk-toggleable__control sk-hidden--visually\" id=\"sk-estimator-id-5\" type=\"checkbox\" checked><label for=\"sk-estimator-id-5\" class=\"sk-toggleable__label sk-toggleable__label-arrow\">GaussianHMM</label><div class=\"sk-toggleable__content\"><pre>GaussianHMM(n_components=3, n_iter=1000)</pre></div></div></div></div></div>"
      ],
      "text/plain": [
       "GaussianHMM(n_components=3, n_iter=1000)"
      ]
     },
     "execution_count": 30,
     "metadata": {},
     "output_type": "execute_result"
    }
   ],
   "source": [
    "np.random.seed(42)\n",
    "hmm_model = hmm.GaussianHMM(n_components=3, covariance_type=\"diag\", n_iter=1000)\n",
    "hmm_model.fit(y_train.values.reshape(-1,1))"
   ]
  },
  {
   "cell_type": "code",
   "execution_count": 31,
   "id": "97efb650-6904-4c1e-be87-d4827ad8a8d6",
   "metadata": {},
   "outputs": [],
   "source": [
    "X = hmm_model.decode(y_train.values.reshape(-1,1))[1]\n",
    "X = pd.Series(X)\n",
    "X.index = y_train.index"
   ]
  },
  {
   "cell_type": "code",
   "execution_count": 32,
   "id": "fd15ac0c-391b-49e9-bc0a-c2b5d3e99790",
   "metadata": {},
   "outputs": [
    {
     "data": {
      "text/html": [
       "<style>#sk-container-id-4 {color: black;background-color: white;}#sk-container-id-4 pre{padding: 0;}#sk-container-id-4 div.sk-toggleable {background-color: white;}#sk-container-id-4 label.sk-toggleable__label {cursor: pointer;display: block;width: 100%;margin-bottom: 0;padding: 0.3em;box-sizing: border-box;text-align: center;}#sk-container-id-4 label.sk-toggleable__label-arrow:before {content: \"▸\";float: left;margin-right: 0.25em;color: #696969;}#sk-container-id-4 label.sk-toggleable__label-arrow:hover:before {color: black;}#sk-container-id-4 div.sk-estimator:hover label.sk-toggleable__label-arrow:before {color: black;}#sk-container-id-4 div.sk-toggleable__content {max-height: 0;max-width: 0;overflow: hidden;text-align: left;background-color: #f0f8ff;}#sk-container-id-4 div.sk-toggleable__content pre {margin: 0.2em;color: black;border-radius: 0.25em;background-color: #f0f8ff;}#sk-container-id-4 input.sk-toggleable__control:checked~div.sk-toggleable__content {max-height: 200px;max-width: 100%;overflow: auto;}#sk-container-id-4 input.sk-toggleable__control:checked~label.sk-toggleable__label-arrow:before {content: \"▾\";}#sk-container-id-4 div.sk-estimator input.sk-toggleable__control:checked~label.sk-toggleable__label {background-color: #d4ebff;}#sk-container-id-4 div.sk-label input.sk-toggleable__control:checked~label.sk-toggleable__label {background-color: #d4ebff;}#sk-container-id-4 input.sk-hidden--visually {border: 0;clip: rect(1px 1px 1px 1px);clip: rect(1px, 1px, 1px, 1px);height: 1px;margin: -1px;overflow: hidden;padding: 0;position: absolute;width: 1px;}#sk-container-id-4 div.sk-estimator {font-family: monospace;background-color: #f0f8ff;border: 1px dotted black;border-radius: 0.25em;box-sizing: border-box;margin-bottom: 0.5em;}#sk-container-id-4 div.sk-estimator:hover {background-color: #d4ebff;}#sk-container-id-4 div.sk-parallel-item::after {content: \"\";width: 100%;border-bottom: 1px solid gray;flex-grow: 1;}#sk-container-id-4 div.sk-label:hover label.sk-toggleable__label {background-color: #d4ebff;}#sk-container-id-4 div.sk-serial::before {content: \"\";position: absolute;border-left: 1px solid gray;box-sizing: border-box;top: 0;bottom: 0;left: 50%;z-index: 0;}#sk-container-id-4 div.sk-serial {display: flex;flex-direction: column;align-items: center;background-color: white;padding-right: 0.2em;padding-left: 0.2em;position: relative;}#sk-container-id-4 div.sk-item {position: relative;z-index: 1;}#sk-container-id-4 div.sk-parallel {display: flex;align-items: stretch;justify-content: center;background-color: white;position: relative;}#sk-container-id-4 div.sk-item::before, #sk-container-id-4 div.sk-parallel-item::before {content: \"\";position: absolute;border-left: 1px solid gray;box-sizing: border-box;top: 0;bottom: 0;left: 50%;z-index: -1;}#sk-container-id-4 div.sk-parallel-item {display: flex;flex-direction: column;z-index: 1;position: relative;background-color: white;}#sk-container-id-4 div.sk-parallel-item:first-child::after {align-self: flex-end;width: 50%;}#sk-container-id-4 div.sk-parallel-item:last-child::after {align-self: flex-start;width: 50%;}#sk-container-id-4 div.sk-parallel-item:only-child::after {width: 0;}#sk-container-id-4 div.sk-dashed-wrapped {border: 1px dashed gray;margin: 0 0.4em 0.5em 0.4em;box-sizing: border-box;padding-bottom: 0.4em;background-color: white;}#sk-container-id-4 div.sk-label label {font-family: monospace;font-weight: bold;display: inline-block;line-height: 1.2em;}#sk-container-id-4 div.sk-label-container {text-align: center;}#sk-container-id-4 div.sk-container {/* jupyter's `normalize.less` sets `[hidden] { display: none; }` but bootstrap.min.css set `[hidden] { display: none !important; }` so we also need the `!important` here to be able to override the default hidden behavior on the sphinx rendered scikit-learn.org. See: https://github.com/scikit-learn/scikit-learn/issues/21755 */display: inline-block !important;position: relative;}#sk-container-id-4 div.sk-text-repr-fallback {display: none;}</style><div id=\"sk-container-id-4\" class=\"sk-top-container\"><div class=\"sk-text-repr-fallback\"><pre>RecursiveTabularRegressionForecaster(estimator=RandomForestRegressor(),\n",
       "                                     window_length=100)</pre><b>In a Jupyter environment, please rerun this cell to show the HTML representation or trust the notebook. <br />On GitHub, the HTML representation is unable to render, please try loading this page with nbviewer.org.</b></div><div class=\"sk-container\" hidden><div class=\"sk-item sk-dashed-wrapped\"><div class=\"sk-label-container\"><div class=\"sk-label sk-toggleable\"><input class=\"sk-toggleable__control sk-hidden--visually\" id=\"sk-estimator-id-6\" type=\"checkbox\" ><label for=\"sk-estimator-id-6\" class=\"sk-toggleable__label sk-toggleable__label-arrow\">RecursiveTabularRegressionForecaster</label><div class=\"sk-toggleable__content\"><pre>RecursiveTabularRegressionForecaster(estimator=RandomForestRegressor(),\n",
       "                                     window_length=100)</pre></div></div></div><div class=\"sk-parallel\"><div class=\"sk-parallel-item\"><div class=\"sk-item\"><div class=\"sk-label-container\"><div class=\"sk-label sk-toggleable\"><input class=\"sk-toggleable__control sk-hidden--visually\" id=\"sk-estimator-id-7\" type=\"checkbox\" ><label for=\"sk-estimator-id-7\" class=\"sk-toggleable__label sk-toggleable__label-arrow\">estimator: RandomForestRegressor</label><div class=\"sk-toggleable__content\"><pre>RandomForestRegressor()</pre></div></div></div><div class=\"sk-serial\"><div class=\"sk-item\"><div class=\"sk-estimator sk-toggleable\"><input class=\"sk-toggleable__control sk-hidden--visually\" id=\"sk-estimator-id-8\" type=\"checkbox\" ><label for=\"sk-estimator-id-8\" class=\"sk-toggleable__label sk-toggleable__label-arrow\">RandomForestRegressor</label><div class=\"sk-toggleable__content\"><pre>RandomForestRegressor()</pre></div></div></div></div></div></div></div></div></div></div>"
      ],
      "text/plain": [
       "RecursiveTabularRegressionForecaster(estimator=RandomForestRegressor(),\n",
       "                                     window_length=100)"
      ]
     },
     "execution_count": 32,
     "metadata": {},
     "output_type": "execute_result"
    }
   ],
   "source": [
    "regressor = RandomForestRegressor()\n",
    "forecaster = make_reduction(regressor, window_length=100, strategy=\"recursive\")\n",
    "forecaster.fit(y=y_train, X=X)"
   ]
  },
  {
   "cell_type": "code",
   "execution_count": 33,
   "id": "be32be6f-257d-4f6b-8a6c-cc97d0284064",
   "metadata": {},
   "outputs": [],
   "source": [
    "hmm_predict = hmm_model.predict(y_test.values.reshape(-1,1))\n",
    "hmm_predict = pd.Series(hmm_predict)\n",
    "hmm_predict.index = y_test.index"
   ]
  },
  {
   "cell_type": "code",
   "execution_count": 34,
   "id": "6435922a-cd34-44da-8da2-05dc40974308",
   "metadata": {},
   "outputs": [],
   "source": [
    "fh = ForecastingHorizon(np.arange(1,len(y_test)+1))\n",
    "y_pred = forecaster.predict(fh=fh, X=hmm_predict)"
   ]
  },
  {
   "cell_type": "code",
   "execution_count": 35,
   "id": "77f8a137-ce53-450b-bad5-f736ba4ade36",
   "metadata": {},
   "outputs": [],
   "source": [
    "exog_pred = convert_regression_to_dc(y_train,y_pred)\n",
    "exog_true = convert_regression_to_dc(y_train, y_test)"
   ]
  },
  {
   "cell_type": "code",
   "execution_count": 36,
   "id": "a18f1296-1b6e-4227-92ae-d3034cdd238c",
   "metadata": {},
   "outputs": [
    {
     "data": {
      "text/plain": [
       "0.5"
      ]
     },
     "execution_count": 36,
     "metadata": {},
     "output_type": "execute_result"
    }
   ],
   "source": [
    "accuracy_score(exog_true.values, exog_pred.values)"
   ]
  },
  {
   "cell_type": "markdown",
   "id": "16688edf-72cf-4527-845d-b97564f1a42e",
   "metadata": {},
   "source": [
    "## Intrinsic time"
   ]
  },
  {
   "cell_type": "code",
   "execution_count": 37,
   "id": "43e39cb2-5706-4024-bf77-1ad5fd2ac97a",
   "metadata": {},
   "outputs": [],
   "source": [
    "from mlfinlab.filters import cusum_filter\n",
    "threshold=0.02"
   ]
  },
  {
   "cell_type": "code",
   "execution_count": 38,
   "id": "4219752a-20cb-4502-8e8c-813a0f2ff211",
   "metadata": {},
   "outputs": [],
   "source": [
    "def build_dataset(series, indexes, lookback):\n",
    "    \"\"\"\n",
    "    Parameters\n",
    "    ----------\n",
    "    series : pd.Series\n",
    "    indexes : list\n",
    "    lookback : int\n",
    "    \n",
    "    Returns\n",
    "    -------\n",
    "        pd.Dataset (X), pd.Series (y)\n",
    "    \"\"\"\n",
    "    X = []\n",
    "    y = np.empty((0,),int)\n",
    "    col_names = [f'feature_{i}' for i in np.arange(lookback)]\n",
    "    for idx in indexes:\n",
    "        idx_found = series.index.get_loc(idx)\n",
    "        row = series.iloc[idx_found-lookback:idx_found]\n",
    "        X.append(row.values)\n",
    "        if series[series.index.get_loc(idx)] > series[series.index.get_loc(idx)-1]:\n",
    "            y = np.append(y, [1], axis=0)\n",
    "        else:\n",
    "             y = np.append(y, [0], axis=0)\n",
    "    X = np.array(X)\n",
    "    X = X.astype('float')\n",
    "    return X, y"
   ]
  },
  {
   "cell_type": "code",
   "execution_count": 39,
   "id": "586a9f96-15d3-4a10-8c8f-7ac638cfc574",
   "metadata": {},
   "outputs": [],
   "source": [
    "cusum_idx = cusum_filter(y_train, threshold=threshold)"
   ]
  },
  {
   "cell_type": "code",
   "execution_count": 40,
   "id": "395567d2-6423-46c8-b69b-3212b0a16299",
   "metadata": {},
   "outputs": [],
   "source": [
    "X_train_cusum_dc, y_train_cusum_dc = build_dataset(y_train, cusum_idx, 20)"
   ]
  },
  {
   "cell_type": "code",
   "execution_count": 41,
   "id": "3817d62c-397a-462e-b245-3f6580e8a02c",
   "metadata": {},
   "outputs": [
    {
     "data": {
      "text/html": [
       "<style>#sk-container-id-5 {color: black;background-color: white;}#sk-container-id-5 pre{padding: 0;}#sk-container-id-5 div.sk-toggleable {background-color: white;}#sk-container-id-5 label.sk-toggleable__label {cursor: pointer;display: block;width: 100%;margin-bottom: 0;padding: 0.3em;box-sizing: border-box;text-align: center;}#sk-container-id-5 label.sk-toggleable__label-arrow:before {content: \"▸\";float: left;margin-right: 0.25em;color: #696969;}#sk-container-id-5 label.sk-toggleable__label-arrow:hover:before {color: black;}#sk-container-id-5 div.sk-estimator:hover label.sk-toggleable__label-arrow:before {color: black;}#sk-container-id-5 div.sk-toggleable__content {max-height: 0;max-width: 0;overflow: hidden;text-align: left;background-color: #f0f8ff;}#sk-container-id-5 div.sk-toggleable__content pre {margin: 0.2em;color: black;border-radius: 0.25em;background-color: #f0f8ff;}#sk-container-id-5 input.sk-toggleable__control:checked~div.sk-toggleable__content {max-height: 200px;max-width: 100%;overflow: auto;}#sk-container-id-5 input.sk-toggleable__control:checked~label.sk-toggleable__label-arrow:before {content: \"▾\";}#sk-container-id-5 div.sk-estimator input.sk-toggleable__control:checked~label.sk-toggleable__label {background-color: #d4ebff;}#sk-container-id-5 div.sk-label input.sk-toggleable__control:checked~label.sk-toggleable__label {background-color: #d4ebff;}#sk-container-id-5 input.sk-hidden--visually {border: 0;clip: rect(1px 1px 1px 1px);clip: rect(1px, 1px, 1px, 1px);height: 1px;margin: -1px;overflow: hidden;padding: 0;position: absolute;width: 1px;}#sk-container-id-5 div.sk-estimator {font-family: monospace;background-color: #f0f8ff;border: 1px dotted black;border-radius: 0.25em;box-sizing: border-box;margin-bottom: 0.5em;}#sk-container-id-5 div.sk-estimator:hover {background-color: #d4ebff;}#sk-container-id-5 div.sk-parallel-item::after {content: \"\";width: 100%;border-bottom: 1px solid gray;flex-grow: 1;}#sk-container-id-5 div.sk-label:hover label.sk-toggleable__label {background-color: #d4ebff;}#sk-container-id-5 div.sk-serial::before {content: \"\";position: absolute;border-left: 1px solid gray;box-sizing: border-box;top: 0;bottom: 0;left: 50%;z-index: 0;}#sk-container-id-5 div.sk-serial {display: flex;flex-direction: column;align-items: center;background-color: white;padding-right: 0.2em;padding-left: 0.2em;position: relative;}#sk-container-id-5 div.sk-item {position: relative;z-index: 1;}#sk-container-id-5 div.sk-parallel {display: flex;align-items: stretch;justify-content: center;background-color: white;position: relative;}#sk-container-id-5 div.sk-item::before, #sk-container-id-5 div.sk-parallel-item::before {content: \"\";position: absolute;border-left: 1px solid gray;box-sizing: border-box;top: 0;bottom: 0;left: 50%;z-index: -1;}#sk-container-id-5 div.sk-parallel-item {display: flex;flex-direction: column;z-index: 1;position: relative;background-color: white;}#sk-container-id-5 div.sk-parallel-item:first-child::after {align-self: flex-end;width: 50%;}#sk-container-id-5 div.sk-parallel-item:last-child::after {align-self: flex-start;width: 50%;}#sk-container-id-5 div.sk-parallel-item:only-child::after {width: 0;}#sk-container-id-5 div.sk-dashed-wrapped {border: 1px dashed gray;margin: 0 0.4em 0.5em 0.4em;box-sizing: border-box;padding-bottom: 0.4em;background-color: white;}#sk-container-id-5 div.sk-label label {font-family: monospace;font-weight: bold;display: inline-block;line-height: 1.2em;}#sk-container-id-5 div.sk-label-container {text-align: center;}#sk-container-id-5 div.sk-container {/* jupyter's `normalize.less` sets `[hidden] { display: none; }` but bootstrap.min.css set `[hidden] { display: none !important; }` so we also need the `!important` here to be able to override the default hidden behavior on the sphinx rendered scikit-learn.org. See: https://github.com/scikit-learn/scikit-learn/issues/21755 */display: inline-block !important;position: relative;}#sk-container-id-5 div.sk-text-repr-fallback {display: none;}</style><div id=\"sk-container-id-5\" class=\"sk-top-container\"><div class=\"sk-text-repr-fallback\"><pre>RandomForestClassifier()</pre><b>In a Jupyter environment, please rerun this cell to show the HTML representation or trust the notebook. <br />On GitHub, the HTML representation is unable to render, please try loading this page with nbviewer.org.</b></div><div class=\"sk-container\" hidden><div class=\"sk-item\"><div class=\"sk-estimator sk-toggleable\"><input class=\"sk-toggleable__control sk-hidden--visually\" id=\"sk-estimator-id-9\" type=\"checkbox\" checked><label for=\"sk-estimator-id-9\" class=\"sk-toggleable__label sk-toggleable__label-arrow\">RandomForestClassifier</label><div class=\"sk-toggleable__content\"><pre>RandomForestClassifier()</pre></div></div></div></div></div>"
      ],
      "text/plain": [
       "RandomForestClassifier()"
      ]
     },
     "execution_count": 41,
     "metadata": {},
     "output_type": "execute_result"
    }
   ],
   "source": [
    "dc_cusum_rf = RandomForestClassifier()\n",
    "dc_cusum_rf.fit(X=X_train_cusum_dc, y= y_train_cusum_dc)"
   ]
  },
  {
   "cell_type": "code",
   "execution_count": 42,
   "id": "2da8c39d-ae3e-4cdb-9305-fc04a8d193ef",
   "metadata": {},
   "outputs": [],
   "source": [
    "cusum_idx = cusum_filter(y_test, threshold=threshold)"
   ]
  },
  {
   "cell_type": "code",
   "execution_count": 47,
   "id": "66445522-7099-4811-9fa2-bedba77e43de",
   "metadata": {},
   "outputs": [],
   "source": [
    "#concatenate train and test in order to build the dataset\n",
    "X_test_cusum_dc, y_test_cusum_dc = build_dataset(pd.concat([y_train,y_test]), cusum_idx, 20)"
   ]
  },
  {
   "cell_type": "code",
   "execution_count": 49,
   "id": "d106ef94-3cc7-402d-b374-1cf57392cca1",
   "metadata": {},
   "outputs": [
    {
     "data": {
      "text/plain": [
       "0.0"
      ]
     },
     "execution_count": 49,
     "metadata": {},
     "output_type": "execute_result"
    }
   ],
   "source": [
    "accuracy_score(dc_cusum_rf.predict(X_test_cusum_dc), y_test_cusum_dc)"
   ]
  }
 ],
 "metadata": {
  "kernelspec": {
   "display_name": "m4study",
   "language": "python",
   "name": "m4study"
  },
  "language_info": {
   "codemirror_mode": {
    "name": "ipython",
    "version": 3
   },
   "file_extension": ".py",
   "mimetype": "text/x-python",
   "name": "python",
   "nbconvert_exporter": "python",
   "pygments_lexer": "ipython3",
   "version": "3.10.6"
  }
 },
 "nbformat": 4,
 "nbformat_minor": 5
}
