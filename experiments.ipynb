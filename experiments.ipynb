{
 "cells": [
  {
   "cell_type": "code",
   "execution_count": 1,
   "metadata": {},
   "outputs": [],
   "source": [
    "a = [\n",
    "    ('est1','sth'),\n",
    "    ('est2','sht else')\n",
    "]"
   ]
  },
  {
   "cell_type": "code",
   "execution_count": 6,
   "metadata": {},
   "outputs": [
    {
     "data": {
      "text/plain": [
       "True"
      ]
     },
     "execution_count": 6,
     "metadata": {},
     "output_type": "execute_result"
    }
   ],
   "source": [
    "'est1' in a[0]"
   ]
  },
  {
   "cell_type": "code",
   "execution_count": 16,
   "metadata": {},
   "outputs": [
    {
     "data": {
      "text/plain": [
       "'sth'"
      ]
     },
     "execution_count": 16,
     "metadata": {},
     "output_type": "execute_result"
    }
   ],
   "source": [
    "list(filter(lambda x: 'est1' in x, a))[0][1]"
   ]
  },
  {
   "cell_type": "code",
   "execution_count": 20,
   "metadata": {},
   "outputs": [],
   "source": [
    "import pandas as pd\n",
    "import types\n",
    "def predict(self, y1,y2):\n",
    "    concat_y1_y2 = pd.concat([y1[-2:-1],y2])\n",
    "    dc = concat_y1_y2.shift(-1) > concat_y1_y2\n",
    "    dc = dc[0:-1]\n",
    "    dc[dc==True] =1\n",
    "    dc[dc==False] =0\n",
    "    dc = dc.astype('int')\n",
    "    return dc"
   ]
  },
  {
   "cell_type": "code",
   "execution_count": 23,
   "metadata": {},
   "outputs": [],
   "source": [
    "class ConvertRegressionToDc:\n",
    "    \"\"\"\n",
    "    Converts regression output to directional change output where 1 means up 0 means down\n",
    "    Parameters\n",
    "    ----------\n",
    "    y1 : pd.Series\n",
    "        Series preceeding y2. It is used only to calculate the value of the first item in y2 (up down relative to the last value of y1)\n",
    "    y2 : pd.Series\n",
    "    \n",
    "    Returns\n",
    "    -------\n",
    "        pd.Series\n",
    "    \"\"\"\n",
    "\n",
    "    def fit(self):\n",
    "        return self\n",
    "    def predict(self, y1,y2):\n",
    "        concat_y1_y2 = pd.concat([y1[-2:-1],y2])\n",
    "        dc = concat_y1_y2.shift(-1) > concat_y1_y2\n",
    "        dc = dc[0:-1]\n",
    "        dc[dc==True] =1\n",
    "        dc[dc==False] =0\n",
    "        dc = dc.astype('int')\n",
    "        return dc\n",
    "\n"
   ]
  },
  {
   "cell_type": "code",
   "execution_count": 24,
   "metadata": {},
   "outputs": [
    {
     "data": {
      "text/plain": [
       "False"
      ]
     },
     "execution_count": 24,
     "metadata": {},
     "output_type": "execute_result"
    }
   ],
   "source": [
    "isinstance(ConvertRegressionToDc, types.FunctionType)"
   ]
  },
  {
   "cell_type": "code",
   "execution_count": 25,
   "metadata": {},
   "outputs": [
    {
     "data": {
      "text/plain": [
       "True"
      ]
     },
     "execution_count": 25,
     "metadata": {},
     "output_type": "execute_result"
    }
   ],
   "source": [
    "callable(ConvertRegressionToDc)"
   ]
  }
 ],
 "metadata": {
  "kernelspec": {
   "display_name": "Python 3 (ipykernel)",
   "language": "python",
   "name": "python3"
  },
  "language_info": {
   "codemirror_mode": {
    "name": "ipython",
    "version": 3
   },
   "file_extension": ".py",
   "mimetype": "text/x-python",
   "name": "python",
   "nbconvert_exporter": "python",
   "pygments_lexer": "ipython3",
   "version": "3.10.6"
  },
  "vscode": {
   "interpreter": {
    "hash": "ed526b974d8c2ae670181904c891ba65b5c57624d092522589e2a55b419424a7"
   }
  }
 },
 "nbformat": 4,
 "nbformat_minor": 4
}
