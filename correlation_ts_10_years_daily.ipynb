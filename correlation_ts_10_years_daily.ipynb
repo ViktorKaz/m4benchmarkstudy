{
 "cells": [
  {
   "cell_type": "markdown",
   "id": "a24dec82",
   "metadata": {},
   "source": [
    "# Load Data"
   ]
  },
  {
   "cell_type": "code",
   "execution_count": 1,
   "id": "f64d1df7",
   "metadata": {},
   "outputs": [],
   "source": [
    "import pandas as pd\n",
    "import matplotlib.pyplot as plt\n",
    "import numpy as np\n",
    "from sklearn.metrics import accuracy_score\n",
    "import itertools"
   ]
  },
  {
   "cell_type": "code",
   "execution_count": 2,
   "id": "501d7f76",
   "metadata": {},
   "outputs": [],
   "source": [
    "idx = pd.read_csv('res_10.csv')\n"
   ]
  },
  {
   "cell_type": "code",
   "execution_count": 3,
   "id": "25455046",
   "metadata": {},
   "outputs": [
    {
     "data": {
      "text/plain": [
       "array(['LUACTRUU Index', 'SPX Index', 'BCOM Index', 'LBUSTRUU Index',\n",
       "       'LF98TRUU Index', 'LUATTRUU Index', 'LUMSTRUU Index',\n",
       "       'LBEATREU Index', 'LP01TREU Index', 'LG30TRUU Index',\n",
       "       'EMUSTRUU Index', 'LGTRTRUU Index', 'LGDRTRUU Index',\n",
       "       'LUGCTRUU Index', 'LP06TREU Index', 'LF94TRUU Index',\n",
       "       'LACHTRUU Index', 'LD08TRUU Index', 'LC07TRUU Index',\n",
       "       'USYC2Y10 Index', 'LECPTREU Index'], dtype=object)"
      ]
     },
     "execution_count": 3,
     "metadata": {},
     "output_type": "execute_result"
    }
   ],
   "source": [
    "idx['ID'].unique()"
   ]
  },
  {
   "cell_type": "code",
   "execution_count": 4,
   "id": "cdf65bc6",
   "metadata": {},
   "outputs": [],
   "source": [
    "def return_correlation_ts(df,idx_1, idx_2, corr_window=30, ma_window=30):\n",
    "    combined = pd.DataFrame()\n",
    "    combined['DATE'] = df[df['ID'] == idx_1]['DATE']\n",
    "    combined[idx_1] = df[df['ID'] == idx_1]['PX_LAST'].values\n",
    "    combined[idx_2] = df[df['ID'] == idx_2]['PX_LAST'].values\n",
    "    combined = combined[combined[idx_1].notna()]\n",
    "    combined = combined[combined[idx_2].notna()]\n",
    "    combined[f'corr_{idx_1}_{idx_2}'] = combined[idx_1].rolling(corr_window).corr(combined[idx_2])\n",
    "    combined[f'MA_{ma_window}'] = combined[f'corr_{idx_1}_{idx_2}'].rolling(ma_window).mean()\n",
    "    combined.index = pd.to_datetime(combined['DATE'].values)\n",
    "    return combined\n",
    "\n",
    "corr = return_correlation_ts(idx,'SPX Index', 'LUACTRUU Index')"
   ]
  },
  {
   "cell_type": "code",
   "execution_count": 5,
   "id": "77244e4c",
   "metadata": {},
   "outputs": [],
   "source": [
    "def split_ts(ts, training_fold=2/3):\n",
    "    train = int(ts.dropna().shape[0]*training_fold)\n",
    "    y_train = ts.iloc[0:train].dropna()\n",
    "    y_test = ts.iloc[train+1:-1].dropna()\n",
    "    y_train = y_train.asfreq('D', method='bfill')\n",
    "    y_test = y_test.asfreq('D', method='bfill')\n",
    "\n",
    "    return y_train, y_test\n"
   ]
  },
  {
   "cell_type": "code",
   "execution_count": 6,
   "id": "1ae5d070",
   "metadata": {},
   "outputs": [],
   "source": [
    "y_train, y_test = split_ts(corr['MA_30'])\n"
   ]
  },
  {
   "cell_type": "markdown",
   "id": "9a46d0b6",
   "metadata": {},
   "source": [
    "# DC Regressor Class"
   ]
  },
  {
   "cell_type": "code",
   "execution_count": 15,
   "id": "635af5c7",
   "metadata": {},
   "outputs": [],
   "source": [
    "from sktime.forecasting.compose import make_reduction\n",
    "from evaluation_registry import DCEvaluator\n",
    "\n",
    "class RegressorDC():\n",
    "    def __init__(self, regressor, y_train, y_test):\n",
    "        self.regressor = regressor\n",
    "        self.y_train = y_train\n",
    "        self.y_test = y_test\n",
    "    def fit_predict(self):\n",
    "        \"\"\"Returns predictions in pd.Series of float        \n",
    "        \"\"\"\n",
    "        initial_window=int(len(self.y_train)*0.8)\n",
    "        # fh = ForecastingHorizon(y_test.index, is_relative=False)\n",
    "        \n",
    "        forecaster = make_reduction(self.regressor, window_length=15, strategy=\"recursive\")\n",
    "        # cv = SlidingWindowSplitter(initial_window=initial_window, window_length=20)\n",
    "        # param_grid = {\"window_length\": [7, 12, 15]}\n",
    "        # forecaster = ForecastingGridSearchCV(forecaster, strategy=\"refit\", cv=cv, param_grid=param_grid)\n",
    "\n",
    "        for i in range(len(self.y_test)):\n",
    "        \n",
    "            date_index = pd.to_datetime([])\n",
    "            y_pred = pd.Series(index=date_index)\n",
    "            for i in range(len(self.y_test)):\n",
    "                comb_y = pd.concat([self.y_train, self.y_test[0:i]])\n",
    "                comb_y = comb_y.asfreq('D', method='bfill')\n",
    "                forecaster.fit(y=comb_y, X=None, fh=[1])\n",
    "                pred = forecaster.predict()\n",
    "                y_pred[pred.index[0]]=pred.values[0]\n",
    "            \n",
    "            self.y_pred = y_pred\n",
    "            return y_pred\n",
    "        \n",
    "    def convert_to_dc(self,y1,y2):\n",
    "        \"\"\"Converts y2 from pandas series of float to pandas series of int where 1 indicates \n",
    "        increase compared to the previous value in the series and 0 indicates a decrease\n",
    "        Parameters\n",
    "        ----------\n",
    "\n",
    "        y1 : pandas series of float  \n",
    "        y2 : pandas series of float\n",
    "\n",
    "        Returns\n",
    "        -------\n",
    "            pandas series of int\n",
    "        \"\"\"\n",
    "        concatenated = pd.concat([y1[-2:-1],y2])\n",
    "        true_dc = concatenated.shift(-1) > concatenated\n",
    "        true_dc = true_dc[0:-1]\n",
    "        true_dc[true_dc==True] =1\n",
    "        true_dc[true_dc==False] =0\n",
    "\n",
    "        return true_dc.astype(int)\n",
    "    \n",
    "    def evaluate(self):\n",
    "\n",
    "        evaluator = DCEvaluator()\n",
    "        true_dc = self.convert_to_dc(y1=self.y_train, y2=self.y_test)\n",
    "        pred_dc = self.convert_to_dc(y1=self.y_train, y2=self.y_pred)\n",
    "        accuracy, f1,fpr, tpr, area_under_the_curve = evaluator.evaluate(y_train, true_dc, pred_dc)\n",
    "        return accuracy, f1,fpr, tpr, area_under_the_curve\n",
    "        \n",
    "    \n"
   ]
  },
  {
   "cell_type": "markdown",
   "id": "2031bb1a",
   "metadata": {},
   "source": [
    "# Fit"
   ]
  },
  {
   "cell_type": "code",
   "execution_count": 13,
   "id": "8f13e187",
   "metadata": {},
   "outputs": [],
   "source": [
    "from sklearn.ensemble import RandomForestRegressor\n",
    "from sklearn import linear_model\n",
    "\n"
   ]
  },
  {
   "cell_type": "code",
   "execution_count": 16,
   "id": "8a2663d4",
   "metadata": {},
   "outputs": [],
   "source": [
    "regressor_lasso = linear_model.Lasso()\n",
    "regressor_dc_lasso  = RegressorDC(regressor=regressor_lasso, y_train=y_train, y_test=y_test)\n",
    "lasso_pred  = regressor_dc_lasso.fit_predict()\n"
   ]
  },
  {
   "cell_type": "code",
   "execution_count": null,
   "id": "3dc11a8d",
   "metadata": {},
   "outputs": [],
   "source": [
    "regressor_rf = RandomForestRegressor(n_jobs=12)\n",
    "\n",
    "regressor_dc_rf  = RegressorDC(regressor=regressor_rf, y_train=y_train, y_test=y_test)\n",
    "\n",
    "rf_pred = regressor_dc_rf.fit_predict()"
   ]
  },
  {
   "cell_type": "markdown",
   "id": "d985c01a",
   "metadata": {},
   "source": [
    "# Evaluate"
   ]
  },
  {
   "cell_type": "code",
   "execution_count": 18,
   "id": "5b6e2348",
   "metadata": {},
   "outputs": [],
   "source": [
    "# accuracy_rf, f1_rf,fpr_rf, tpr_rf, area_under_the_curve_rf = regressor_dc_rf.evaluate()\n",
    "accuracy_lasso, f1_rf,fpr_lasso, tpr_lasso, area_under_the_curve_lasso = regressor_dc_lasso.evaluate()"
   ]
  },
  {
   "cell_type": "code",
   "execution_count": 19,
   "id": "13ebb413",
   "metadata": {},
   "outputs": [
    {
     "data": {
      "text/plain": [
       "0.3107789142407553"
      ]
     },
     "execution_count": 19,
     "metadata": {},
     "output_type": "execute_result"
    }
   ],
   "source": [
    "accuracy_lasso"
   ]
  }
 ],
 "metadata": {
  "kernelspec": {
   "display_name": "venv_m4study",
   "language": "python",
   "name": "python3"
  },
  "language_info": {
   "codemirror_mode": {
    "name": "ipython",
    "version": 3
   },
   "file_extension": ".py",
   "mimetype": "text/x-python",
   "name": "python",
   "nbconvert_exporter": "python",
   "pygments_lexer": "ipython3",
   "version": "3.10.12"
  }
 },
 "nbformat": 4,
 "nbformat_minor": 5
}
