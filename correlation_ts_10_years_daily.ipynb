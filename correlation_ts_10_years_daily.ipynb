{
 "cells": [
  {
   "cell_type": "markdown",
   "id": "a24dec82",
   "metadata": {},
   "source": [
    "# Load Data"
   ]
  },
  {
   "cell_type": "code",
   "execution_count": 185,
   "id": "f64d1df7",
   "metadata": {},
   "outputs": [],
   "source": [
    "import pandas as pd\n",
    "import matplotlib.pyplot as plt\n",
    "import numpy as np\n",
    "from sklearn.metrics import accuracy_score\n",
    "import itertools"
   ]
  },
  {
   "cell_type": "code",
   "execution_count": 186,
   "id": "501d7f76",
   "metadata": {},
   "outputs": [],
   "source": [
    "idx = pd.read_csv('res_10.csv')\n"
   ]
  },
  {
   "cell_type": "code",
   "execution_count": 187,
   "id": "25455046",
   "metadata": {},
   "outputs": [
    {
     "data": {
      "text/plain": [
       "array(['LUACTRUU Index', 'SPX Index', 'BCOM Index', 'LBUSTRUU Index',\n",
       "       'LF98TRUU Index', 'LUATTRUU Index', 'LUMSTRUU Index',\n",
       "       'LBEATREU Index', 'LP01TREU Index', 'LG30TRUU Index',\n",
       "       'EMUSTRUU Index', 'LGTRTRUU Index', 'LGDRTRUU Index',\n",
       "       'LUGCTRUU Index', 'LP06TREU Index', 'LF94TRUU Index',\n",
       "       'LACHTRUU Index', 'LD08TRUU Index', 'LC07TRUU Index',\n",
       "       'USYC2Y10 Index', 'LECPTREU Index'], dtype=object)"
      ]
     },
     "execution_count": 187,
     "metadata": {},
     "output_type": "execute_result"
    }
   ],
   "source": [
    "idx['ID'].unique()"
   ]
  },
  {
   "cell_type": "code",
   "execution_count": 188,
   "id": "cdf65bc6",
   "metadata": {},
   "outputs": [],
   "source": [
    "def return_correlation_ts(df,idx_1, idx_2, corr_window=30, ma_window=30):\n",
    "    combined = pd.DataFrame()\n",
    "    combined['DATE'] = df[df['ID'] == idx_1]['DATE']\n",
    "    combined[idx_1] = df[df['ID'] == idx_1]['PX_LAST'].values\n",
    "    combined[idx_2] = df[df['ID'] == idx_2]['PX_LAST'].values\n",
    "    combined = combined[combined[idx_1].notna()]\n",
    "    combined = combined[combined[idx_2].notna()]\n",
    "    combined[f'corr_{idx_1}_{idx_2}'] = combined[idx_1].rolling(corr_window).corr(combined[idx_2])\n",
    "    combined[f'MA_{ma_window}'] = combined[f'corr_{idx_1}_{idx_2}'].rolling(ma_window).mean()\n",
    "    combined.index = pd.to_datetime(combined['DATE'].values)\n",
    "    return combined\n",
    "\n",
    "corr = return_correlation_ts(idx,'SPX Index', 'LUACTRUU Index')"
   ]
  },
  {
   "cell_type": "code",
   "execution_count": 189,
   "id": "77244e4c",
   "metadata": {},
   "outputs": [],
   "source": [
    "def split_ts(ts, training_fold=2/3):\n",
    "    train = int(ts.dropna().shape[0]*training_fold)\n",
    "    y_train = ts.iloc[0:train].dropna()\n",
    "    y_test = ts.iloc[train+1:-1].dropna()\n",
    "    y_train = y_train.asfreq('D', method='bfill')\n",
    "    y_test = y_test.asfreq('D', method='bfill')\n",
    "\n",
    "    return y_train, y_test\n"
   ]
  },
  {
   "cell_type": "code",
   "execution_count": 190,
   "id": "1ae5d070",
   "metadata": {},
   "outputs": [],
   "source": [
    "y_train, y_test = split_ts(corr['MA_30'])\n"
   ]
  },
  {
   "cell_type": "markdown",
   "id": "d58dca50",
   "metadata": {},
   "source": [
    "# Fit models"
   ]
  },
  {
   "cell_type": "code",
   "execution_count": 191,
   "id": "4652010a",
   "metadata": {},
   "outputs": [],
   "source": [
    "from dc_reduced_to_regression import RandomForestGSCV\n",
    "from sktime.forecasting.base import ForecastingHorizon\n",
    "from sklearn.ensemble import RandomForestRegressor\n",
    "from sktime.forecasting.compose import make_reduction\n",
    "from sktime.forecasting.model_selection import (\n",
    "    ForecastingGridSearchCV,\n",
    "    SlidingWindowSplitter,\n",
    ")\n",
    "\n"
   ]
  },
  {
   "cell_type": "code",
   "execution_count": 192,
   "id": "75ac0287",
   "metadata": {},
   "outputs": [
    {
     "name": "stderr",
     "output_type": "stream",
     "text": [
      "/home/viktor/MPhil/m4benchmarkstudy/sktime/utils/validation/series.py:30: FutureWarning: Index.is_integer is deprecated. Use pandas.api.types.is_integer_dtype instead.\n",
      "  return isinstance(x, pd.Index) and x.is_integer()\n",
      "/home/viktor/MPhil/m4benchmarkstudy/sktime/utils/validation/series.py:30: FutureWarning: Index.is_integer is deprecated. Use pandas.api.types.is_integer_dtype instead.\n",
      "  return isinstance(x, pd.Index) and x.is_integer()\n",
      "/home/viktor/MPhil/m4benchmarkstudy/sktime/utils/validation/series.py:30: FutureWarning: Index.is_integer is deprecated. Use pandas.api.types.is_integer_dtype instead.\n",
      "  return isinstance(x, pd.Index) and x.is_integer()\n",
      "/home/viktor/MPhil/m4benchmarkstudy/sktime/utils/validation/series.py:30: FutureWarning: Index.is_integer is deprecated. Use pandas.api.types.is_integer_dtype instead.\n",
      "  return isinstance(x, pd.Index) and x.is_integer()\n"
     ]
    },
    {
     "ename": "TypeError",
     "evalue": "Index(...) must be called with a collection of some kind, ForecastingHorizon(['2020-04-03', '2020-04-04', '2020-04-05', '2020-04-06',\n               '2020-04-07', '2020-04-08', '2020-04-09', '2020-04-10',\n               '2020-04-11', '2020-04-12',\n               ...\n               '2023-09-16', '2023-09-17', '2023-09-18', '2023-09-19',\n               '2023-09-20', '2023-09-21', '2023-09-22', '2023-09-23',\n               '2023-09-24', '2023-09-25'],\n              dtype='datetime64[ns]', length=1271, freq='D', is_relative=False) was passed",
     "output_type": "error",
     "traceback": [
      "\u001b[0;31m---------------------------------------------------------------------------\u001b[0m",
      "\u001b[0;31mTypeError\u001b[0m                                 Traceback (most recent call last)",
      "\u001b[1;32m/home/viktor/MPhil/m4benchmarkstudy/correlation_ts_10_years_daily.ipynb Cell 10\u001b[0m line \u001b[0;36m9\n\u001b[1;32m      <a href='vscode-notebook-cell:/home/viktor/MPhil/m4benchmarkstudy/correlation_ts_10_years_daily.ipynb#X45sZmlsZQ%3D%3D?line=4'>5</a>\u001b[0m \u001b[39m# cv = SlidingWindowSplitter(initial_window=initial_window, window_length=20)\u001b[39;00m\n\u001b[1;32m      <a href='vscode-notebook-cell:/home/viktor/MPhil/m4benchmarkstudy/correlation_ts_10_years_daily.ipynb#X45sZmlsZQ%3D%3D?line=5'>6</a>\u001b[0m \u001b[39m# param_grid = {\"window_length\": [7, 12, 15]}\u001b[39;00m\n\u001b[1;32m      <a href='vscode-notebook-cell:/home/viktor/MPhil/m4benchmarkstudy/correlation_ts_10_years_daily.ipynb#X45sZmlsZQ%3D%3D?line=6'>7</a>\u001b[0m \u001b[39m# forecaster = ForecastingGridSearchCV(forecaster, strategy=\"refit\", cv=cv, param_grid=param_grid)\u001b[39;00m\n\u001b[1;32m      <a href='vscode-notebook-cell:/home/viktor/MPhil/m4benchmarkstudy/correlation_ts_10_years_daily.ipynb#X45sZmlsZQ%3D%3D?line=7'>8</a>\u001b[0m forecaster\u001b[39m.\u001b[39mfit(y\u001b[39m=\u001b[39my_train, X\u001b[39m=\u001b[39m\u001b[39mNone\u001b[39;00m, fh\u001b[39m=\u001b[39mfh)\n\u001b[0;32m----> <a href='vscode-notebook-cell:/home/viktor/MPhil/m4benchmarkstudy/correlation_ts_10_years_daily.ipynb#X45sZmlsZQ%3D%3D?line=8'>9</a>\u001b[0m y_pred \u001b[39m=\u001b[39m forecaster\u001b[39m.\u001b[39mpredict(fh\u001b[39m=\u001b[39mfh)\n",
      "File \u001b[0;32m~/MPhil/m4benchmarkstudy/sktime/forecasting/base/_base.py:358\u001b[0m, in \u001b[0;36mBaseForecaster.predict\u001b[0;34m(self, fh, X)\u001b[0m\n\u001b[1;32m    356\u001b[0m \u001b[39m# we call the ordinary _predict if no looping/vectorization needed\u001b[39;00m\n\u001b[1;32m    357\u001b[0m \u001b[39mif\u001b[39;00m \u001b[39mnot\u001b[39;00m \u001b[39mself\u001b[39m\u001b[39m.\u001b[39m_is_vectorized:\n\u001b[0;32m--> 358\u001b[0m     y_pred \u001b[39m=\u001b[39m \u001b[39mself\u001b[39;49m\u001b[39m.\u001b[39;49m_predict(fh\u001b[39m=\u001b[39;49mfh, X\u001b[39m=\u001b[39;49mX_inner)\n\u001b[1;32m    359\u001b[0m \u001b[39melse\u001b[39;00m:\n\u001b[1;32m    360\u001b[0m     \u001b[39m# otherwise we call the vectorized version of predict\u001b[39;00m\n\u001b[1;32m    361\u001b[0m     y_pred \u001b[39m=\u001b[39m \u001b[39mself\u001b[39m\u001b[39m.\u001b[39m_vectorize(\u001b[39m\"\u001b[39m\u001b[39mpredict\u001b[39m\u001b[39m\"\u001b[39m, X\u001b[39m=\u001b[39mX_inner, fh\u001b[39m=\u001b[39mfh)\n",
      "File \u001b[0;32m~/MPhil/m4benchmarkstudy/sktime/forecasting/base/_sktime.py:31\u001b[0m, in \u001b[0;36m_BaseWindowForecaster._predict\u001b[0;34m(self, fh, X)\u001b[0m\n\u001b[1;32m     29\u001b[0m \u001b[39m# all values are out-of-sample\u001b[39;00m\n\u001b[1;32m     30\u001b[0m \u001b[39mif\u001b[39;00m fh\u001b[39m.\u001b[39mis_all_out_of_sample(\u001b[39mself\u001b[39m\u001b[39m.\u001b[39mcutoff):\n\u001b[0;32m---> 31\u001b[0m     \u001b[39mreturn\u001b[39;00m \u001b[39mself\u001b[39;49m\u001b[39m.\u001b[39;49m_predict_fixed_cutoff(\n\u001b[1;32m     32\u001b[0m         fh\u001b[39m.\u001b[39;49mto_out_of_sample(\u001b[39mself\u001b[39;49m\u001b[39m.\u001b[39;49mcutoff), \u001b[39m*\u001b[39;49m\u001b[39m*\u001b[39;49mkwargs\n\u001b[1;32m     33\u001b[0m     )\n\u001b[1;32m     35\u001b[0m \u001b[39m# all values are in-sample\u001b[39;00m\n\u001b[1;32m     36\u001b[0m \u001b[39melif\u001b[39;00m fh\u001b[39m.\u001b[39mis_all_in_sample(\u001b[39mself\u001b[39m\u001b[39m.\u001b[39mcutoff):\n",
      "File \u001b[0;32m~/MPhil/m4benchmarkstudy/sktime/forecasting/base/_sktime.py:72\u001b[0m, in \u001b[0;36m_BaseWindowForecaster._predict_fixed_cutoff\u001b[0;34m(self, fh, X, return_pred_int, alpha)\u001b[0m\n\u001b[1;32m     70\u001b[0m \u001b[39melse\u001b[39;00m:\n\u001b[1;32m     71\u001b[0m     index \u001b[39m=\u001b[39m fh\u001b[39m.\u001b[39mto_absolute(\u001b[39mself\u001b[39m\u001b[39m.\u001b[39mcutoff)\n\u001b[0;32m---> 72\u001b[0m     \u001b[39mreturn\u001b[39;00m pd\u001b[39m.\u001b[39;49mSeries(y_pred, index\u001b[39m=\u001b[39;49mindex)\n",
      "File \u001b[0;32m~/MPhil/m4benchmarkstudy/venv_m4study/lib/python3.10/site-packages/pandas/core/series.py:425\u001b[0m, in \u001b[0;36mSeries.__init__\u001b[0;34m(self, data, index, dtype, name, copy, fastpath)\u001b[0m\n\u001b[1;32m    422\u001b[0m name \u001b[39m=\u001b[39m ibase\u001b[39m.\u001b[39mmaybe_extract_name(name, data, \u001b[39mtype\u001b[39m(\u001b[39mself\u001b[39m))\n\u001b[1;32m    424\u001b[0m \u001b[39mif\u001b[39;00m index \u001b[39mis\u001b[39;00m \u001b[39mnot\u001b[39;00m \u001b[39mNone\u001b[39;00m:\n\u001b[0;32m--> 425\u001b[0m     index \u001b[39m=\u001b[39m ensure_index(index)\n\u001b[1;32m    427\u001b[0m \u001b[39mif\u001b[39;00m dtype \u001b[39mis\u001b[39;00m \u001b[39mnot\u001b[39;00m \u001b[39mNone\u001b[39;00m:\n\u001b[1;32m    428\u001b[0m     dtype \u001b[39m=\u001b[39m \u001b[39mself\u001b[39m\u001b[39m.\u001b[39m_validate_dtype(dtype)\n",
      "File \u001b[0;32m~/MPhil/m4benchmarkstudy/venv_m4study/lib/python3.10/site-packages/pandas/core/indexes/base.py:7125\u001b[0m, in \u001b[0;36mensure_index\u001b[0;34m(index_like, copy)\u001b[0m\n\u001b[1;32m   7123\u001b[0m         \u001b[39mreturn\u001b[39;00m Index(index_like, copy\u001b[39m=\u001b[39mcopy, tupleize_cols\u001b[39m=\u001b[39m\u001b[39mFalse\u001b[39;00m)\n\u001b[1;32m   7124\u001b[0m \u001b[39melse\u001b[39;00m:\n\u001b[0;32m-> 7125\u001b[0m     \u001b[39mreturn\u001b[39;00m Index(index_like, copy\u001b[39m=\u001b[39;49mcopy)\n",
      "File \u001b[0;32m~/MPhil/m4benchmarkstudy/venv_m4study/lib/python3.10/site-packages/pandas/core/indexes/base.py:522\u001b[0m, in \u001b[0;36mIndex.__new__\u001b[0;34m(cls, data, dtype, copy, name, tupleize_cols)\u001b[0m\n\u001b[1;32m    518\u001b[0m     \u001b[39mreturn\u001b[39;00m Index(np\u001b[39m.\u001b[39masarray(data), dtype\u001b[39m=\u001b[39mdtype, copy\u001b[39m=\u001b[39mcopy, name\u001b[39m=\u001b[39mname)\n\u001b[1;32m    519\u001b[0m \u001b[39melif\u001b[39;00m \u001b[39mnot\u001b[39;00m is_list_like(data) \u001b[39mand\u001b[39;00m \u001b[39mnot\u001b[39;00m \u001b[39misinstance\u001b[39m(data, \u001b[39mmemoryview\u001b[39m):\n\u001b[1;32m    520\u001b[0m     \u001b[39m# 2022-11-16 the memoryview check is only necessary on some CI\u001b[39;00m\n\u001b[1;32m    521\u001b[0m     \u001b[39m#  builds, not clear why\u001b[39;00m\n\u001b[0;32m--> 522\u001b[0m     \u001b[39mraise\u001b[39;00m \u001b[39mcls\u001b[39;49m\u001b[39m.\u001b[39;49m_raise_scalar_data_error(data)\n\u001b[1;32m    524\u001b[0m \u001b[39melse\u001b[39;00m:\n\u001b[1;32m    525\u001b[0m     \u001b[39mif\u001b[39;00m tupleize_cols:\n\u001b[1;32m    526\u001b[0m         \u001b[39m# GH21470: convert iterable to list before determining if empty\u001b[39;00m\n",
      "File \u001b[0;32m~/MPhil/m4benchmarkstudy/venv_m4study/lib/python3.10/site-packages/pandas/core/indexes/base.py:5065\u001b[0m, in \u001b[0;36mIndex._raise_scalar_data_error\u001b[0;34m(cls, data)\u001b[0m\n\u001b[1;32m   5060\u001b[0m \u001b[39m@final\u001b[39m\n\u001b[1;32m   5061\u001b[0m \u001b[39m@classmethod\u001b[39m\n\u001b[1;32m   5062\u001b[0m \u001b[39mdef\u001b[39;00m \u001b[39m_raise_scalar_data_error\u001b[39m(\u001b[39mcls\u001b[39m, data):\n\u001b[1;32m   5063\u001b[0m     \u001b[39m# We return the TypeError so that we can raise it from the constructor\u001b[39;00m\n\u001b[1;32m   5064\u001b[0m     \u001b[39m#  in order to keep mypy happy\u001b[39;00m\n\u001b[0;32m-> 5065\u001b[0m     \u001b[39mraise\u001b[39;00m \u001b[39mTypeError\u001b[39;00m(\n\u001b[1;32m   5066\u001b[0m         \u001b[39mf\u001b[39m\u001b[39m\"\u001b[39m\u001b[39m{\u001b[39;00m\u001b[39mcls\u001b[39m\u001b[39m.\u001b[39m\u001b[39m__name__\u001b[39m\u001b[39m}\u001b[39;00m\u001b[39m(...) must be called with a collection of some \u001b[39m\u001b[39m\"\u001b[39m\n\u001b[1;32m   5067\u001b[0m         \u001b[39mf\u001b[39m\u001b[39m\"\u001b[39m\u001b[39mkind, \u001b[39m\u001b[39m{\u001b[39;00m\u001b[39mrepr\u001b[39m(data)\u001b[39m}\u001b[39;00m\u001b[39m was passed\u001b[39m\u001b[39m\"\u001b[39m\n\u001b[1;32m   5068\u001b[0m     )\n",
      "\u001b[0;31mTypeError\u001b[0m: Index(...) must be called with a collection of some kind, ForecastingHorizon(['2020-04-03', '2020-04-04', '2020-04-05', '2020-04-06',\n               '2020-04-07', '2020-04-08', '2020-04-09', '2020-04-10',\n               '2020-04-11', '2020-04-12',\n               ...\n               '2023-09-16', '2023-09-17', '2023-09-18', '2023-09-19',\n               '2023-09-20', '2023-09-21', '2023-09-22', '2023-09-23',\n               '2023-09-24', '2023-09-25'],\n              dtype='datetime64[ns]', length=1271, freq='D', is_relative=False) was passed"
     ]
    }
   ],
   "source": [
    "initial_window=int(len(y_train)*0.8)\n",
    "fh = ForecastingHorizon(y_test.index, is_relative=False)\n",
    "regressor = RandomForestRegressor(n_jobs=12)\n",
    "forecaster = make_reduction(regressor, window_length=15, strategy=\"recursive\")\n",
    "# cv = SlidingWindowSplitter(initial_window=initial_window, window_length=20)\n",
    "# param_grid = {\"window_length\": [7, 12, 15]}\n",
    "# forecaster = ForecastingGridSearchCV(forecaster, strategy=\"refit\", cv=cv, param_grid=param_grid)\n",
    "forecaster.fit(y=y_train, X=None, fh=fh)\n",
    "y_pred = forecaster.predict(fh=fh)\n"
   ]
  },
  {
   "cell_type": "code",
   "execution_count": null,
   "id": "321562b1",
   "metadata": {},
   "outputs": [
    {
     "data": {
      "text/plain": [
       "1271"
      ]
     },
     "execution_count": 183,
     "metadata": {},
     "output_type": "execute_result"
    }
   ],
   "source": [
    "len(y_test)"
   ]
  }
 ],
 "metadata": {
  "kernelspec": {
   "display_name": "venv_m4study",
   "language": "python",
   "name": "python3"
  },
  "language_info": {
   "codemirror_mode": {
    "name": "ipython",
    "version": 3
   },
   "file_extension": ".py",
   "mimetype": "text/x-python",
   "name": "python",
   "nbconvert_exporter": "python",
   "pygments_lexer": "ipython3",
   "version": "3.10.12"
  }
 },
 "nbformat": 4,
 "nbformat_minor": 5
}
