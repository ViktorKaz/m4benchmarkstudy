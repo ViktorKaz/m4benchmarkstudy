{
 "cells": [
  {
   "cell_type": "markdown",
   "id": "a24dec82",
   "metadata": {},
   "source": [
    "# Load Data"
   ]
  },
  {
   "cell_type": "code",
   "execution_count": 2,
   "id": "f64d1df7",
   "metadata": {},
   "outputs": [],
   "source": [
    "import pandas as pd\n",
    "import matplotlib.pyplot as plt\n",
    "import numpy as np\n",
    "from sklearn.metrics import accuracy_score\n",
    "import itertools"
   ]
  },
  {
   "cell_type": "code",
   "execution_count": 3,
   "id": "ad27e7fc",
   "metadata": {},
   "outputs": [],
   "source": [
    "from sklearn.ensemble import RandomForestRegressor, RandomForestClassifier\n",
    "from sklearn.svm import SVR, SVC\n",
    "from sklearn import linear_model"
   ]
  },
  {
   "cell_type": "code",
   "execution_count": 4,
   "id": "501d7f76",
   "metadata": {},
   "outputs": [],
   "source": [
    "idx = pd.read_csv('data/res_10.csv')\n"
   ]
  },
  {
   "cell_type": "code",
   "execution_count": 5,
   "id": "25455046",
   "metadata": {},
   "outputs": [
    {
     "data": {
      "text/plain": [
       "array(['LUACTRUU Index', 'SPX Index', 'BCOM Index', 'LBUSTRUU Index',\n",
       "       'LF98TRUU Index', 'LUATTRUU Index', 'LUMSTRUU Index',\n",
       "       'LBEATREU Index', 'LP01TREU Index', 'LG30TRUU Index',\n",
       "       'EMUSTRUU Index', 'LGTRTRUU Index', 'LGDRTRUU Index',\n",
       "       'LUGCTRUU Index', 'LP06TREU Index', 'LF94TRUU Index',\n",
       "       'LACHTRUU Index', 'LD08TRUU Index', 'LC07TRUU Index',\n",
       "       'USYC2Y10 Index', 'LECPTREU Index'], dtype=object)"
      ]
     },
     "execution_count": 5,
     "metadata": {},
     "output_type": "execute_result"
    }
   ],
   "source": [
    "idx['ID'].unique()"
   ]
  },
  {
   "cell_type": "code",
   "execution_count": 6,
   "id": "6555c934",
   "metadata": {},
   "outputs": [],
   "source": [
    "corr_pairs = [\n",
    "    ('SPX Index','LUACTRUU Index'),\n",
    "    ('SPX Index','BCOM Index'),\n",
    "    ('LUACTRUU Index', 'BCOM Index')\n",
    "]"
   ]
  },
  {
   "cell_type": "code",
   "execution_count": 7,
   "id": "1ae5d070",
   "metadata": {},
   "outputs": [],
   "source": [
    "from data.load import get_y\n",
    "\n",
    "y_train, y_test = get_y('SPX Index', 'LUACTRUU Index')\n"
   ]
  },
  {
   "cell_type": "markdown",
   "id": "8743957a",
   "metadata": {},
   "source": [
    "# Fit models"
   ]
  },
  {
   "cell_type": "code",
   "execution_count": 8,
   "id": "547c092e",
   "metadata": {},
   "outputs": [],
   "source": [
    "results_data = []\n",
    "MLFLOW_EXPERIMENT_ID = '0'"
   ]
  },
  {
   "cell_type": "code",
   "execution_count": 9,
   "id": "fe641077",
   "metadata": {},
   "outputs": [
    {
     "ename": "ModuleNotFoundError",
     "evalue": "No module named 'mlflow'",
     "output_type": "error",
     "traceback": [
      "\u001b[1;31m---------------------------------------------------------------------------\u001b[0m",
      "\u001b[1;31mModuleNotFoundError\u001b[0m                       Traceback (most recent call last)",
      "Cell \u001b[1;32mIn[9], line 3\u001b[0m\n\u001b[0;32m      1\u001b[0m \u001b[38;5;28;01mfrom\u001b[39;00m \u001b[38;5;21;01msktime\u001b[39;00m\u001b[38;5;21;01m.\u001b[39;00m\u001b[38;5;21;01mregression\u001b[39;00m\u001b[38;5;21;01m.\u001b[39;00m\u001b[38;5;21;01mdummy\u001b[39;00m \u001b[38;5;28;01mimport\u001b[39;00m DummyRegressor\n\u001b[0;32m      2\u001b[0m \u001b[38;5;28;01mfrom\u001b[39;00m \u001b[38;5;21;01mdc_df\u001b[39;00m\u001b[38;5;21;01m.\u001b[39;00m\u001b[38;5;21;01mbase\u001b[39;00m \u001b[38;5;28;01mimport\u001b[39;00m RegressorDF\n\u001b[1;32m----> 3\u001b[0m \u001b[38;5;28;01mimport\u001b[39;00m \u001b[38;5;21;01mmlflow\u001b[39;00m\n\u001b[0;32m      4\u001b[0m \u001b[38;5;28;01mfrom\u001b[39;00m \u001b[38;5;21;01mdata\u001b[39;00m\u001b[38;5;21;01m.\u001b[39;00m\u001b[38;5;21;01msave_to_mlflow\u001b[39;00m \u001b[38;5;28;01mimport\u001b[39;00m save_to_mlflow\n\u001b[0;32m      6\u001b[0m \u001b[38;5;28;01mfrom\u001b[39;00m \u001b[38;5;21;01mdc_df\u001b[39;00m\u001b[38;5;21;01m.\u001b[39;00m\u001b[38;5;21;01mmodel_registry\u001b[39;00m \u001b[38;5;28;01mimport\u001b[39;00m HMMExogenousDC\n",
      "\u001b[1;31mModuleNotFoundError\u001b[0m: No module named 'mlflow'"
     ]
    }
   ],
   "source": [
    "from sktime.regression.dummy import DummyRegressor\n",
    "from dc_df.base import RegressorDF\n",
    "import mlflow\n",
    "from data.save_to_mlflow import save_to_mlflow\n",
    "\n",
    "from dc_df.model_registry import HMMExogenousDC\n",
    "\n",
    "from dc_df.base import RegressorDF\n",
    "\n",
    "from data.load import get_y\n"
   ]
  },
  {
   "cell_type": "code",
   "execution_count": null,
   "id": "fbfe90d3",
   "metadata": {},
   "outputs": [],
   "source": [
    "for cp in corr_pairs:\n",
    "    y_train, y_test = get_y(cp[0], cp[1])\n",
    "\n",
    "\n",
    "    #dummy\n",
    "    # dummy = DummyRegressor()\n",
    "    # regressor_dummy  = RegressorDF(estimator=dummy, y_train=y_train, y_test=y_test,  name= \"Dummy_REG\" )\n",
    "    # dummy_pred  = regressor_dummy.fit_predict()\n",
    "\n",
    "    # accuracy, f1,fpr, tpr, auc = regressor_dummy.evaluate()\n",
    "\n",
    "    # save_to_mlflow(model_name=regressor_dummy.get_name(), dts_name=f\"{cp[0]}-{cp[1]}\", accuracy=accuracy, f1=f1, fpr=fpr[1], tpr=tpr[1], auc=auc,MLFLOW_EXPERIMENT_ID=MLFLOW_EXPERIMENT_ID)\n",
    "\n",
    "\n",
    "    # exogenous model Random Forest with HMM\n",
    "\n",
    "    regressor_rf = RandomForestRegressor(n_jobs=12)\n",
    "    hmm_exogenous = HMMExogenousDC(estimator=regressor_rf, y_train=y_train, y_test=y_test, name= \"RF_HMM\", n_components=2 )\n",
    "    y_pred, X = hmm_exogenous.fit_predict()\n",
    "    accuracy, f1,fpr, tpr, area_under_the_curve = hmm_exogenous.evaluate()\n",
    "\n",
    "\n",
    "    save_to_mlflow(model_name=hmm_exogenous.get_name(), dts_name=f\"{cp[0]}-{cp[1]}\", accuracy=accuracy, f1=f1, fpr=fpr[1], tpr=tpr[1], auc=area_under_the_curve,MLFLOW_EXPERIMENT_ID=MLFLOW_EXPERIMENT_ID)\n",
    "\n",
    "\n",
    "    # Random Forest Regression\n",
    "    regressor_rf = RandomForestRegressor(n_jobs=12)\n",
    "\n",
    "    regressor_dc_rf  = RegressorDF(estimator=regressor_rf, y_train=y_train, y_test=y_test, name=\"RF\")\n",
    "\n",
    "    rf_pred = regressor_dc_rf.fit_predict()\n",
    "\n",
    "    accuracy, f1,fpr, tpr, area_under_the_curve = regressor_dc_rf.evaluate()\n",
    "    save_to_mlflow(model_name=regressor_dc_rf.get_name(), dts_name=f\"{cp[0]}-{cp[1]}\", accuracy=accuracy, f1=f1, fpr=fpr[1], tpr=tpr[1], auc=area_under_the_curve, MLFLOW_EXPERIMENT_ID=MLFLOW_EXPERIMENT_ID)\n",
    "\n",
    "\n",
    "\n",
    "    # SVR\n",
    "    regressor_svr = SVR()\n",
    "    regressor_df_svr  = RegressorDF(estimator=regressor_svr, y_train=y_train, y_test=y_test, name=\"SVR\")\n",
    "\n",
    "    svr_pred = regressor_df_svr.fit_predict()\n",
    "\n",
    "    accuracy, f1,fpr, tpr, area_under_the_curve = regressor_df_svr.evaluate()\n",
    "    save_to_mlflow(model_name=regressor_df_svr.get_name(), dts_name=f\"{cp[0]}-{cp[1]}\", accuracy=accuracy, f1=f1, fpr=fpr[1], tpr=tpr[1], auc=area_under_the_curve, MLFLOW_EXPERIMENT_ID=MLFLOW_EXPERIMENT_ID)\n",
    "\n",
    "\n",
    "    # SVR HMM\n",
    "    regressor_svr = SVR()\n",
    "    svr_hmm = HMMExogenousDC(estimator=regressor_svr, y_train=y_train, y_test=y_test, name=\"SVR_HMM\" )\n",
    "    y_pred, X = svr_hmm.fit_predict()\n",
    "\n",
    "    accuracy, f1,fpr, tpr, area_under_the_curve = svr_hmm.evaluate()\n",
    "    save_to_mlflow(model_name=svr_hmm.get_name(), dts_name=f\"{cp[0]}-{cp[1]}\", accuracy=accuracy, f1=f1, fpr=fpr[1], tpr=tpr[1], auc=area_under_the_curve, MLFLOW_EXPERIMENT_ID=MLFLOW_EXPERIMENT_ID)\n",
    "\n",
    "\n",
    "    #Lasso regression\n",
    "    regressor_lasso = linear_model.Lasso()\n",
    "    regressor_dc_lasso  = RegressorDF(estimator=regressor_lasso, y_train=y_train, y_test=y_test, name=\"LASSO\")\n",
    "    lasso_pred  = regressor_dc_lasso.fit_predict()\n",
    "\n",
    "    accuracy, f1,fpr, tpr, area_under_the_curve = regressor_dc_lasso.evaluate()\n",
    "    save_to_mlflow(model_name=regressor_dc_lasso.get_name(), dts_name=f\"{cp[0]}-{cp[1]}\", accuracy=accuracy, f1=f1, fpr=fpr[1], tpr=tpr[1], auc=area_under_the_curve,MLFLOW_EXPERIMENT_ID=MLFLOW_EXPERIMENT_ID)\n",
    "\n"
   ]
  },
  {
   "cell_type": "markdown",
   "id": "d3d7062a",
   "metadata": {},
   "source": [
    "# Summary Statistics"
   ]
  },
  {
   "cell_type": "code",
   "execution_count": null,
   "id": "3ae96433",
   "metadata": {},
   "outputs": [],
   "source": [
    "summary = pd.DataFrame(columns=['estimator','accuracy','f1','fpr','tpr','auc'], data=results_data)\n",
    "summary"
   ]
  }
 ],
 "metadata": {
  "kernelspec": {
   "display_name": "venv_m4study",
   "language": "python",
   "name": "python3"
  },
  "language_info": {
   "codemirror_mode": {
    "name": "ipython",
    "version": 3
   },
   "file_extension": ".py",
   "mimetype": "text/x-python",
   "name": "python",
   "nbconvert_exporter": "python",
   "pygments_lexer": "ipython3",
   "version": "3.8.7"
  }
 },
 "nbformat": 4,
 "nbformat_minor": 5
}
